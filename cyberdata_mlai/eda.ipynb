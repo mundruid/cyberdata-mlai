{
 "cells": [
  {
   "cell_type": "code",
   "execution_count": 1,
   "metadata": {},
   "outputs": [],
   "source": [
    "import pandas as pd\n",
    "import numpy as np\n",
    "import seaborn as sns\n",
    "import matplotlib.pyplot as plt\n",
    "\n",
    "from scipy.stats import ttest_ind, zscore\n",
    "from summarytools import dfSummary"
   ]
  },
  {
   "cell_type": "markdown",
   "metadata": {},
   "source": [
    "# Load Engineered data"
   ]
  },
  {
   "cell_type": "code",
   "execution_count": 2,
   "metadata": {},
   "outputs": [],
   "source": [
    "malicious_features = pd.read_pickle(\"data/malicious_features_numeric.pkl\")\n",
    "benign_features = pd.read_pickle(\"data/benign_features_numeric.pkl\")"
   ]
  },
  {
   "cell_type": "code",
   "execution_count": null,
   "metadata": {},
   "outputs": [],
   "source": [
    "malicious_features"
   ]
  },
  {
   "cell_type": "code",
   "execution_count": null,
   "metadata": {},
   "outputs": [],
   "source": [
    "benign_features"
   ]
  },
  {
   "cell_type": "code",
   "execution_count": null,
   "metadata": {},
   "outputs": [],
   "source": [
    "malicious_features.pop(\"Payload\")\n",
    "benign_features.pop(\"Payload\")"
   ]
  },
  {
   "attachments": {},
   "cell_type": "markdown",
   "metadata": {},
   "source": [
    "# EDA\n",
    "\n",
    "Exploratory Data Analysis approaches the dataset as a black box that we need to visualize and analyze statistically with the following goals:\n",
    "- get insights about our data\n",
    "- test hypotheses\n",
    "- decide on models and further processing, such as feature engineering.\n",
    "\n",
    "EDA can be performed for benign and malicious data. Here we are looking at EDA only for malicious data, however the same functions can be applied to benign."
   ]
  },
  {
   "cell_type": "markdown",
   "metadata": {},
   "source": [
    "## Descriptive statistics & data\n",
    "\n",
    "- Describe columns and data types\n",
    "- Descriptive statistics\n",
    "  -  count, \n",
    "  -  mean, \n",
    "  -  standard deviation, \n",
    "  -  minimum, \n",
    "  -  25th percentile, \n",
    "  -  median (50th percentile), \n",
    "  -  75th percentile, and \n",
    "  -  maximum"
   ]
  },
  {
   "cell_type": "code",
   "execution_count": null,
   "metadata": {},
   "outputs": [],
   "source": [
    "malicious_features.describe()"
   ]
  },
  {
   "cell_type": "code",
   "execution_count": null,
   "metadata": {},
   "outputs": [],
   "source": [
    "benign_features.describe()"
   ]
  },
  {
   "cell_type": "code",
   "execution_count": null,
   "metadata": {},
   "outputs": [],
   "source": [
    "mirai_correlation_matrix = malicious_features.corr()\n",
    "mirai_correlation_matrix"
   ]
  },
  {
   "cell_type": "code",
   "execution_count": null,
   "metadata": {},
   "outputs": [],
   "source": [
    "benign_correlation_matrix = benign_features.corr()\n",
    "benign_correlation_matrix"
   ]
  },
  {
   "cell_type": "code",
   "execution_count": 10,
   "metadata": {},
   "outputs": [],
   "source": [
    "# Create a heatmap\n",
    "def correlation_heatmap(correlation_matrix):\n",
    "    plt.figure(figsize=(8, 6))  # Adjust the figure size as needed\n",
    "    sns.set(font_scale=1.2)  # Adjust the font size as needed\n",
    "\n",
    "    # Customize the heatmap\n",
    "    sns.heatmap(\n",
    "        correlation_matrix,\n",
    "        annot=True,\n",
    "        cmap=\"coolwarm\",\n",
    "        square=True,\n",
    "        xticklabels=[\n",
    "            \"Timestamp\",\n",
    "            \"Source Port\",\n",
    "            \"Destination Port\",\n",
    "            \"Packet Length\",\n",
    "            \"Protocol\",\n",
    "            \"src_ip_total_bytes\",\n",
    "            \"dst_ip_total_bytes\",\n",
    "            \"Number of Packets\",\n",
    "            \"Source IP numeric\",\n",
    "            \"Destination IP numeric\",\n",
    "            \"dst_port_freq_encoded\",\n",
    "            \"Interarrival\",\n",
    "        ],\n",
    "        yticklabels=[\n",
    "            \"Timestamp\",\n",
    "            \"Source Port\",\n",
    "            \"Destination Port\",\n",
    "            \"Packet Length\",\n",
    "            \"Protocol\",\n",
    "            \"src_ip_total_bytes\",\n",
    "            \"dst_ip_total_bytes\",\n",
    "            \"Number of Packets\",\n",
    "            \"Source IP numeric\",\n",
    "            \"Destination IP numeric\",\n",
    "            \"dst_port_freq_encoded\",\n",
    "            \"Interarrival\",\n",
    "        ],\n",
    "    )\n",
    "\n",
    "    plt.title(\"Correlation Heatmap\")\n",
    "    plt.show()"
   ]
  },
  {
   "cell_type": "code",
   "execution_count": null,
   "metadata": {},
   "outputs": [],
   "source": [
    "correlation_heatmap(mirai_correlation_matrix)"
   ]
  },
  {
   "cell_type": "code",
   "execution_count": null,
   "metadata": {},
   "outputs": [],
   "source": [
    "correlation_heatmap(benign_correlation_matrix)"
   ]
  },
  {
   "attachments": {},
   "cell_type": "markdown",
   "metadata": {},
   "source": [
    "## Hypothesis testing\n",
    "\n",
    "- Is the difference between two groups or variables statistically significant?\n",
    "- Use t-test to compare means of two groups\n",
    "  - assumes that data follows normal distribution\n",
    "- Types of variables\n",
    "  - dependent: the effect of a phenomenon. For example, how does number of HTTP requests mean that a network is compromised?\n",
    "  - independent: the cause. The number of HTTP requests affects whether a network is compromised."
   ]
  },
  {
   "cell_type": "code",
   "execution_count": 13,
   "metadata": {},
   "outputs": [],
   "source": [
    "def hypothesis_testing(df, col1, col2):\n",
    "    group1 = df[col1]\n",
    "    group2 = df[col2]\n",
    "    pvalue = ttest_ind(group1, group2)[1]\n",
    "    if pvalue < 0.05:\n",
    "        return \"The difference between {} and {} is statistically significant (p < 0.05)\".format(\n",
    "            col1, col2\n",
    "        )\n",
    "    else:\n",
    "        return \"The difference between {} and {} is not statistically significant (p >= 0.05)\".format(\n",
    "            col1, col2\n",
    "        )"
   ]
  },
  {
   "cell_type": "code",
   "execution_count": null,
   "metadata": {},
   "outputs": [],
   "source": [
    "hypothesis_testing(malicious_features, \"dst_port_freq_encoded\", \"Packet Length\")"
   ]
  },
  {
   "cell_type": "code",
   "execution_count": null,
   "metadata": {},
   "outputs": [],
   "source": [
    "hypothesis_testing(benign_features, \"dst_port_freq_encoded\", \"Packet Length\")"
   ]
  },
  {
   "attachments": {},
   "cell_type": "markdown",
   "metadata": {},
   "source": [
    "## Outliers\n",
    "\n",
    "- observation that significantly differs from others in a dataset\n",
    "- Causes\n",
    "  - measurement errors\n",
    "  - extreme rare values\n",
    "- significant impact in statistical analysis\n",
    "- measurements\n",
    "  - z-score: `(x - mean) / std_dev`\n",
    "  - IQR method: this method identifies outliers as observations that are below `Q1 - 1.5IQR` or above `Q3 + 1.5IQR`, where Q1 and Q3 are the first and third quartiles, and IQR is the interquartile range (the difference between Q3 and Q1).\n",
    "  - visual inspection"
   ]
  },
  {
   "cell_type": "code",
   "execution_count": 16,
   "metadata": {},
   "outputs": [],
   "source": [
    "def detect_outliers_zscore(df, column, threshold=3):\n",
    "    zscores = np.abs(zscore(df[column]))\n",
    "    return df[zscores > threshold]"
   ]
  },
  {
   "cell_type": "code",
   "execution_count": null,
   "metadata": {},
   "outputs": [],
   "source": [
    "outliers = detect_outliers_zscore(malicious_features, \"Packet Length\", threshold=3)\n",
    "print(outliers)"
   ]
  },
  {
   "cell_type": "code",
   "execution_count": null,
   "metadata": {},
   "outputs": [],
   "source": [
    "outliers = detect_outliers_zscore(benign_features, \"Packet Length\", threshold=3)\n",
    "print(outliers)"
   ]
  },
  {
   "cell_type": "code",
   "execution_count": 19,
   "metadata": {},
   "outputs": [],
   "source": [
    "def plot_outliers_multiple_views(df, column, threshold=3):\n",
    "    \"\"\"\n",
    "    Creates a comprehensive view of outliers using multiple plots:\n",
    "    1. Box plot\n",
    "    2. Scatter plot with z-scores\n",
    "    3. Distribution plot with outlier regions marked\n",
    "    \n",
    "    Parameters:\n",
    "    df (pandas.DataFrame): Input dataframe\n",
    "    column (str): Column name to analyze\n",
    "    threshold (float): Z-score threshold for outlier detection\n",
    "    \"\"\"\n",
    "    # Calculate z-scores\n",
    "    z_scores = zscore(df[column])\n",
    "    df_with_z = df.copy()\n",
    "    df_with_z['zscore'] = z_scores\n",
    "    df_with_z['is_outlier'] = np.abs(z_scores) > threshold\n",
    "    \n",
    "    # Create a figure with three subplots\n",
    "    fig, (ax1, ax2, ax3) = plt.subplots(3, 1, figsize=(12, 15))\n",
    "    \n",
    "    # 1. Box Plot\n",
    "    sns.boxplot(x=df[column], ax=ax1)\n",
    "    ax1.set_title('Box Plot with Outliers')\n",
    "    \n",
    "    # 2. Scatter Plot with z-scores\n",
    "    scatter_colors = ['blue' if not outlier else 'red' for outlier in df_with_z['is_outlier']]\n",
    "    ax2.scatter(range(len(df_with_z)), df_with_z[column], c=scatter_colors, alpha=0.5)\n",
    "    ax2.axhline(y=df[column].mean(), color='green', linestyle='--', label='Mean')\n",
    "    ax2.set_title('Scatter Plot (Red Points are Outliers)')\n",
    "    ax2.set_xlabel('Index')\n",
    "    ax2.set_ylabel('Value')\n",
    "    ax2.legend()\n",
    "    \n",
    "    # 3. Distribution Plot with Outlier Regions\n",
    "    sns.kdeplot(data=df[column], ax=ax3)\n",
    "    outliers = df_with_z[df_with_z['is_outlier']][column]\n",
    "    if len(outliers) > 0:\n",
    "        ax3.hist(outliers, bins=10, alpha=0.5, color='red', density=True)\n",
    "    ax3.set_title('Distribution with Outliers Highlighted')\n",
    "    \n",
    "    # Add threshold lines to distribution plot\n",
    "    mean = df[column].mean()\n",
    "    std = df[column].std()\n",
    "    ax3.axvline(mean + threshold * std, color='r', linestyle='--', alpha=0.5)\n",
    "    ax3.axvline(mean - threshold * std, color='r', linestyle='--', alpha=0.5)\n",
    "    \n",
    "    plt.tight_layout()\n",
    "    return fig\n",
    "\n",
    "def plot_outlier_details(df, column, threshold=3):\n",
    "    \"\"\"\n",
    "    Creates a detailed analysis plot focusing on the outliers' z-scores\n",
    "    \n",
    "    Parameters:\n",
    "    df (pandas.DataFrame): Input dataframe\n",
    "    column (str): Column name to analyze\n",
    "    threshold (float): Z-score threshold for outlier detection\n",
    "    \"\"\"\n",
    "    # Calculate z-scores\n",
    "    z_scores = zscore(df[column])\n",
    "    df_with_z = df.copy()\n",
    "    df_with_z['zscore'] = z_scores\n",
    "    df_with_z['is_outlier'] = np.abs(z_scores) > threshold\n",
    "    \n",
    "    # Create figure\n",
    "    fig, (ax1, ax2) = plt.subplots(2, 1, figsize=(12, 10))\n",
    "    \n",
    "    # 1. Z-score distribution\n",
    "    sns.histplot(data=df_with_z, x='zscore', ax=ax1)\n",
    "    ax1.axvline(x=threshold, color='r', linestyle='--', label=f'Threshold (+{threshold})')\n",
    "    ax1.axvline(x=-threshold, color='r', linestyle='--', label=f'Threshold (-{threshold})')\n",
    "    ax1.set_title('Z-score Distribution')\n",
    "    ax1.legend()\n",
    "    \n",
    "    # 2. Z-score vs Original Value scatter\n",
    "    non_outliers = df_with_z[~df_with_z['is_outlier']]\n",
    "    outliers = df_with_z[df_with_z['is_outlier']]\n",
    "    \n",
    "    ax2.scatter(non_outliers['zscore'], non_outliers[column], \n",
    "                c='blue', label='Normal', alpha=0.5)\n",
    "    ax2.scatter(outliers['zscore'], outliers[column], \n",
    "                c='red', label='Outliers', alpha=0.5)\n",
    "    ax2.axvline(x=threshold, color='r', linestyle='--', alpha=0.3)\n",
    "    ax2.axvline(x=-threshold, color='r', linestyle='--', alpha=0.3)\n",
    "    ax2.set_xlabel('Z-score')\n",
    "    ax2.set_ylabel('Original Value')\n",
    "    ax2.set_title('Z-score vs Original Value')\n",
    "    ax2.legend()\n",
    "    \n",
    "    plt.tight_layout()\n",
    "    return fig\n"
   ]
  },
  {
   "cell_type": "code",
   "execution_count": null,
   "metadata": {},
   "outputs": [],
   "source": [
    "# Create both visualizations\n",
    "fig1 = plot_outliers_multiple_views(malicious_features, \"Packet Length\", threshold=3)\n",
    "fig2 = plot_outlier_details(malicious_features, \"Packet Length\", threshold=3)\n",
    "\n",
    "# Display the plots\n",
    "plt.show()"
   ]
  },
  {
   "attachments": {},
   "cell_type": "markdown",
   "metadata": {},
   "source": [
    "# Summaries & Visualizations\n",
    "Using packages `dfSummary` and `sweetviz`, we create a wealth of visualizations with minimal code. These visualizations offer valuable insights for data exploration."
   ]
  },
  {
   "cell_type": "code",
   "execution_count": null,
   "metadata": {},
   "outputs": [],
   "source": [
    "dfSummary(malicious_features)"
   ]
  },
  {
   "cell_type": "code",
   "execution_count": null,
   "metadata": {},
   "outputs": [],
   "source": [
    "dfSummary(benign_features)"
   ]
  },
  {
   "cell_type": "code",
   "execution_count": null,
   "metadata": {},
   "outputs": [],
   "source": [
    "# import sweetviz as sv\n",
    "# known error, branch unmerged https://github.com/fbdesignpro/sweetviz/pull/178\n",
    "# my_report = sv.analyze(malicious_features)\n",
    "# # this shows and saves the html to the specific path. Make sure the directory html exists.\n",
    "# my_report.show_html(filepath=\"html/malicious.html\")"
   ]
  },
  {
   "cell_type": "code",
   "execution_count": null,
   "metadata": {},
   "outputs": [],
   "source": [
    "# my_report = sv.analyze(benign_features)\n",
    "# # this shows and saves the html to the specific path. Make sure the directory html exists.\n",
    "# my_report.show_html(filepath=\"html/benign.html\")"
   ]
  }
 ],
 "metadata": {
  "kernelspec": {
   "display_name": ".venv",
   "language": "python",
   "name": "python3"
  },
  "language_info": {
   "codemirror_mode": {
    "name": "ipython",
    "version": 3
   },
   "file_extension": ".py",
   "mimetype": "text/x-python",
   "name": "python",
   "nbconvert_exporter": "python",
   "pygments_lexer": "ipython3",
   "version": "3.12.7"
  }
 },
 "nbformat": 4,
 "nbformat_minor": 2
}
