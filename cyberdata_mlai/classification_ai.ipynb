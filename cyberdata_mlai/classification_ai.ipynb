{
 "cells": [
  {
   "cell_type": "code",
   "execution_count": 1,
   "metadata": {},
   "outputs": [],
   "source": [
    "import pandas as pd\n",
    "import os\n",
    "\n",
    "from dotenv import load_dotenv\n",
    "from sklearn.ensemble import RandomForestClassifier\n",
    "from sklearn.metrics import accuracy_score, precision_recall_fscore_support\n",
    "from sklearn.utils import shuffle, resample\n",
    "\n",
    "\n",
    "# scikit llm imports\n",
    "from skllm.config import SKLLMConfig\n",
    "from skllm.models.gpt.classification.zero_shot import ZeroShotGPTClassifier\n",
    "from skllm.models.gpt.classification.few_shot import FewShotGPTClassifier\n",
    "from skllm.models.vertex.classification.zero_shot import ZeroShotVertexClassifier"
   ]
  },
  {
   "cell_type": "code",
   "execution_count": 2,
   "metadata": {},
   "outputs": [],
   "source": [
    "# finds .env file and loads the vars\n",
    "load_dotenv()\n",
    "openai_api_key = os.getenv(\"OPENAI_API_KEY\", \"Key not found\")\n",
    "openai_org = os.getenv(\"OPENAI_ORG\", \"Organization not found\")"
   ]
  },
  {
   "cell_type": "markdown",
   "metadata": {},
   "source": [
    "# Load features"
   ]
  },
  {
   "cell_type": "code",
   "execution_count": 3,
   "metadata": {},
   "outputs": [],
   "source": [
    "# If this is set to true, we use old data and pickle files that have been created\n",
    "READ_FROM_PICKLE = True"
   ]
  },
  {
   "cell_type": "code",
   "execution_count": 4,
   "metadata": {},
   "outputs": [],
   "source": [
    "if READ_FROM_PICKLE:\n",
    "    malicious_df = pd.read_pickle(\"data/malicious_features_numeric.pkl\")\n",
    "    benign_df = pd.read_pickle(\"data/benign_features_numeric.pkl\")"
   ]
  },
  {
   "cell_type": "markdown",
   "metadata": {},
   "source": [
    "# Labeling"
   ]
  },
  {
   "cell_type": "code",
   "execution_count": 5,
   "metadata": {},
   "outputs": [],
   "source": [
    "# add labels, 0 for benign, 1 for malicious\n",
    "malicious_df[\"label\"] = 1 \n",
    "benign_df[\"label\"] = 0"
   ]
  },
  {
   "cell_type": "markdown",
   "metadata": {},
   "source": [
    "# Everything is text"
   ]
  },
  {
   "cell_type": "code",
   "execution_count": 6,
   "metadata": {},
   "outputs": [],
   "source": [
    "malicious_df[\"embedding\"] = malicious_df.apply(lambda row: ','.join(row.astype(str)), axis=1)\n",
    "benign_df[\"embedding\"] = benign_df.apply(lambda row: ','.join(row.astype(str)), axis=1)"
   ]
  },
  {
   "cell_type": "code",
   "execution_count": 7,
   "metadata": {},
   "outputs": [],
   "source": [
    "data = pd.concat([malicious_df[[\"embedding\", \"label\"]], benign_df[[\"embedding\", \"label\"]]], ignore_index=True)"
   ]
  },
  {
   "cell_type": "code",
   "execution_count": 8,
   "metadata": {},
   "outputs": [
    {
     "data": {
      "text/plain": [
       "Index(['Timestamp', 'Source Port', 'Destination Port', 'Payload',\n",
       "       'Packet Length', 'Protocol', 'src_ip_total_bytes', 'dst_ip_total_bytes',\n",
       "       'Numeric Source IP', 'Numeric Destination IP', 'dst_port_freq_encoded',\n",
       "       'Interarrival', 'label', 'embedding'],\n",
       "      dtype='object')"
      ]
     },
     "execution_count": 8,
     "metadata": {},
     "output_type": "execute_result"
    }
   ],
   "source": [
    "malicious_df.columns"
   ]
  },
  {
   "cell_type": "code",
   "execution_count": 9,
   "metadata": {},
   "outputs": [],
   "source": [
    "data_rf = pd.concat(\n",
    "    [\n",
    "        malicious_df[\n",
    "            [\n",
    "                \"Timestamp\",\n",
    "                \"Source Port\",\n",
    "                \"Destination Port\",\n",
    "                \"Packet Length\",\n",
    "                \"Protocol\",\n",
    "                \"src_ip_total_bytes\",\n",
    "                \"dst_ip_total_bytes\",\n",
    "                \"Numeric Source IP\",\n",
    "                \"Numeric Destination IP\",\n",
    "                \"dst_port_freq_encoded\",\n",
    "                \"Interarrival\",\n",
    "                \"label\",\n",
    "            ]\n",
    "        ],\n",
    "        benign_df[\n",
    "            [\n",
    "                \"Timestamp\",\n",
    "                \"Source Port\",\n",
    "                \"Destination Port\",\n",
    "                \"Packet Length\",\n",
    "                \"Protocol\",\n",
    "                \"src_ip_total_bytes\",\n",
    "                \"dst_ip_total_bytes\",\n",
    "                \"Numeric Source IP\",\n",
    "                \"Numeric Destination IP\",\n",
    "                \"dst_port_freq_encoded\",\n",
    "                \"Interarrival\",\n",
    "                \"label\",\n",
    "            ]\n",
    "        ],\n",
    "    ],\n",
    "    ignore_index=True,\n",
    ")"
   ]
  },
  {
   "cell_type": "code",
   "execution_count": 10,
   "metadata": {},
   "outputs": [],
   "source": [
    "data = shuffle(data)\n",
    "data_rf = shuffle(data_rf)"
   ]
  },
  {
   "cell_type": "markdown",
   "metadata": {},
   "source": [
    "# Downsample"
   ]
  },
  {
   "cell_type": "code",
   "execution_count": 11,
   "metadata": {},
   "outputs": [],
   "source": [
    "# Assuming you have your data loaded into a Pandas DataFrame called 'data'\n",
    "\n",
    "# Separate majority and minority classes\n",
    "majority_class = data[data[\"label\"] == 1]\n",
    "minority_class = data[data[\"label\"] == 0]\n",
    "\n",
    "# Downsample majority class\n",
    "downsampled_majority = resample(\n",
    "    majority_class,\n",
    "    replace=False,  # sample without replacement\n",
    "    n_samples=len(minority_class),  # to match minority class\n",
    "    random_state=42,\n",
    ")  # reproducible results\n",
    "\n",
    "# Combine minority class with downsampled majority class\n",
    "downsampled_data = pd.concat([downsampled_majority, minority_class])\n",
    "\n",
    "# Shuffle the data\n",
    "downsampled_data = downsampled_data.sample(frac=1, random_state=42)\n",
    "\n",
    "# Now downsampled_data contains your downsampled dataset"
   ]
  },
  {
   "cell_type": "code",
   "execution_count": 46,
   "metadata": {},
   "outputs": [],
   "source": [
    "# use a subset because this takes loooong!\n",
    "data_size = 1000\n",
    "X_llm = data[\"embedding\"].head(data_size)\n",
    "y_llm = data[\"label\"].head(data_size)\n",
    "X_test = data[\"embedding\"].tail(int(data_size / 10))\n",
    "y_test = data[\"label\"].tail(int(data_size / 10))"
   ]
  },
  {
   "cell_type": "code",
   "execution_count": 13,
   "metadata": {},
   "outputs": [],
   "source": [
    "# Assuming you have your data loaded into a Pandas DataFrame called 'data'\n",
    "\n",
    "# Separate majority and minority classes\n",
    "majority_class_rf = data_rf[data_rf[\"label\"] == 1]\n",
    "minority_class_rf = data_rf[data_rf[\"label\"] == 0]\n",
    "\n",
    "# Downsample majority class\n",
    "downsampled_majority_rf = resample(\n",
    "    majority_class_rf,\n",
    "    replace=False,  # sample without replacement\n",
    "    n_samples=len(minority_class_rf),  # to match minority class\n",
    "    random_state=42,\n",
    ")  # reproducible results\n",
    "\n",
    "# Combine minority class with downsampled majority class\n",
    "downsampled_data_rf = pd.concat([downsampled_majority_rf, minority_class_rf])\n",
    "\n",
    "# Shuffle the data\n",
    "downsampled_data_rf = downsampled_data_rf.sample(frac=1, random_state=42)\n",
    "\n",
    "# Now downsampled_data contains your downsampled dataset"
   ]
  },
  {
   "cell_type": "code",
   "execution_count": 14,
   "metadata": {},
   "outputs": [],
   "source": [
    "# use a subset because this takes loooong!\n",
    "data_size = 200000\n",
    "X_rf = downsampled_data_rf.head(data_size)\n",
    "y_rf = downsampled_data_rf[\"label\"].head(data_size)\n",
    "X_rf_test = downsampled_data_rf.tail(int(data_size / 10))\n",
    "y_rf_test = downsampled_data_rf[\"label\"].tail(int(data_size / 10))"
   ]
  },
  {
   "cell_type": "code",
   "execution_count": 15,
   "metadata": {},
   "outputs": [],
   "source": [
    "SKLLMConfig.set_openai_key(openai_api_key)\n",
    "SKLLMConfig.set_openai_org(openai_org)"
   ]
  },
  {
   "cell_type": "markdown",
   "metadata": {},
   "source": [
    "# Models"
   ]
  },
  {
   "cell_type": "code",
   "execution_count": 16,
   "metadata": {},
   "outputs": [],
   "source": [
    "all_metrics = []\n",
    "zero_shot_metrics = []\n",
    "few_shot_metrics = []"
   ]
  },
  {
   "cell_type": "markdown",
   "metadata": {},
   "source": [
    "## Random forest\n",
    "Added as a benchmark to AI models"
   ]
  },
  {
   "cell_type": "code",
   "execution_count": 17,
   "metadata": {},
   "outputs": [],
   "source": [
    "# Initialize the model\n",
    "rf = RandomForestClassifier(n_estimators=100, random_state=42)\n",
    "\n",
    "# Train the model\n",
    "rf.fit(X_rf, y_rf)\n",
    "\n",
    "# Make predictions\n",
    "labels = rf.predict(X_rf_test)\n",
    "\n",
    "accuracy = accuracy_score(y_rf_test, labels)\n",
    "prf = precision_recall_fscore_support(y_rf_test, labels)\n",
    "metrics_dict = {\n",
    "    \"Random Forest\": {\n",
    "        \"Accuracy\": accuracy,\n",
    "        \"Precision\": float(prf[0][1]),\n",
    "        \"Recall\": float(prf[1][1]),\n",
    "        \"F1\": float(prf[2][1]),\n",
    "    }\n",
    "}"
   ]
  },
  {
   "cell_type": "code",
   "execution_count": null,
   "metadata": {},
   "outputs": [],
   "source": [
    "# Accuracy: 0.9875100725221595\n",
    "# Precision: 0.9946207638515331\n",
    "# Recall: 0.9806417395916203\n",
    "# F1 Score: 0.9875817866203765"
   ]
  },
  {
   "cell_type": "markdown",
   "metadata": {},
   "source": [
    "## OpenAI"
   ]
  },
  {
   "cell_type": "code",
   "execution_count": 19,
   "metadata": {},
   "outputs": [],
   "source": [
    "# all_metrics = []"
   ]
  },
  {
   "cell_type": "markdown",
   "metadata": {},
   "source": [
    "### ZeroShotClassifier"
   ]
  },
  {
   "cell_type": "code",
   "execution_count": 20,
   "metadata": {},
   "outputs": [],
   "source": [
    "# clf = ZeroShotGPTClassifier(openai_model=\"gpt-3.5-turbo\")\n",
    "# clf.fit(X_llm, y_llm)\n",
    "# labels = clf.predict(X_test)\n",
    "\n",
    "# accuracy = accuracy_score(y_test, labels)\n",
    "# prf = precision_recall_fscore_support(y_test, labels)\n",
    "# metrics_dict = {\n",
    "#     \"gpt-3.5-turbo-zero-shot\": {\n",
    "#         \"Accuracy\": accuracy,\n",
    "#         \"Precision\": float(prf[0][1]),\n",
    "#         \"Recall\": float(prf[1][1]),\n",
    "#         \"F1\": float(prf[2][1]),\n",
    "#     }\n",
    "# }\n",
    "# all_metrics.append(metrics_dict)"
   ]
  },
  {
   "cell_type": "code",
   "execution_count": 21,
   "metadata": {},
   "outputs": [],
   "source": [
    "# clf = ZeroShotGPTClassifier(openai_model=\"gpt-4o\")\n",
    "# clf.fit(X_llm, y_llm)\n",
    "# labels = clf.predict(X_test)\n",
    "\n",
    "# accuracy = accuracy_score(y_test, labels)\n",
    "# prf = precision_recall_fscore_support(y_test, labels)\n",
    "# metrics_dict = {\n",
    "#     \"gpt-4o-zero-shot\": {\n",
    "#         \"Accuracy\": accuracy,\n",
    "#         \"Precision\": float(prf[0][1]),\n",
    "#         \"Recall\": float(prf[1][1]),\n",
    "#         \"F1\": float(prf[2][1]),\n",
    "#     }\n",
    "# }\n",
    "# all_metrics.append(metrics_dict)"
   ]
  },
  {
   "cell_type": "markdown",
   "metadata": {},
   "source": [
    "### FewShotClassifier"
   ]
  },
  {
   "cell_type": "code",
   "execution_count": 22,
   "metadata": {},
   "outputs": [],
   "source": [
    "# clf = FewShotGPTClassifier(openai_model=\"gpt-3.5-turbo\")\n",
    "# clf.fit(X_llm, y_llm)\n",
    "# labels = clf.predict(X_test)\n",
    "\n",
    "# accuracy = accuracy_score(y_test, labels)\n",
    "# prf = precision_recall_fscore_support(y_test, labels)\n",
    "# metrics_dict = {\n",
    "#     \"gpt-3.5-turbo-few-shot\": {\n",
    "#         \"Accuracy\": accuracy,\n",
    "#         \"Precision\": float(prf[0][1]),\n",
    "#         \"Recall\": float(prf[1][1]),\n",
    "#         \"F1\": float(prf[2][1]),\n",
    "#     }\n",
    "# }\n",
    "# all_metrics.append(metrics_dict)"
   ]
  },
  {
   "cell_type": "code",
   "execution_count": 23,
   "metadata": {},
   "outputs": [],
   "source": [
    "# clf = FewShotGPTClassifier(openai_model=\"gpt-4o\")\n",
    "# clf.fit(X_llm, y_llm)\n",
    "# labels = clf.predict(X_test)\n",
    "\n",
    "# accuracy = accuracy_score(y_test, labels)\n",
    "# prf = precision_recall_fscore_support(y_test, labels)\n",
    "# metrics_dict = {\n",
    "#     \"gpt-4o-few-shot\": {\n",
    "#         \"Accuracy\": accuracy,\n",
    "#         \"Precision\": float(prf[0][1]),\n",
    "#         \"Recall\": float(prf[1][1]),\n",
    "#         \"F1\": float(prf[2][1]),\n",
    "#     }\n",
    "# }\n",
    "# all_metrics.append(metrics_dict)"
   ]
  },
  {
   "cell_type": "code",
   "execution_count": 24,
   "metadata": {},
   "outputs": [],
   "source": [
    "# all_metrics"
   ]
  },
  {
   "cell_type": "markdown",
   "metadata": {},
   "source": [
    "## VertexAI"
   ]
  },
  {
   "cell_type": "code",
   "execution_count": 25,
   "metadata": {},
   "outputs": [],
   "source": [
    "SKLLMConfig.set_google_project(\"expel-engineering-internal\")"
   ]
  },
  {
   "cell_type": "code",
   "execution_count": 26,
   "metadata": {},
   "outputs": [
    {
     "name": "stderr",
     "output_type": "stream",
     "text": [
      "100%|██████████| 200/200 [03:23<00:00,  1.02s/it]\n"
     ]
    }
   ],
   "source": [
    "clf = ZeroShotVertexClassifier(model=\"gemini-2.0-flash-001\")\n",
    "clf.fit(X_llm, y_llm)\n",
    "labels = clf.predict(X_test)\n",
    "\n",
    "accuracy = accuracy_score(y_test, labels)\n",
    "prf = precision_recall_fscore_support(y_test, labels)\n",
    "metrics_dict = {\n",
    "    \"Gemini-zero-shot\": {\n",
    "        \"Accuracy\": accuracy,\n",
    "        \"Precision\": float(prf[0][1]),\n",
    "        \"Recall\": float(prf[1][1]),\n",
    "        \"F1\": float(prf[2][1]),\n",
    "    }\n",
    "}\n",
    "zero_shot_metrics.append(metrics_dict)"
   ]
  },
  {
   "cell_type": "code",
   "execution_count": 27,
   "metadata": {},
   "outputs": [
    {
     "name": "stderr",
     "output_type": "stream",
     "text": [
      "100%|██████████| 200/200 [05:48<00:00,  1.74s/it]\n"
     ]
    }
   ],
   "source": [
    "clf = ZeroShotVertexClassifier(model=\"chat-bison\")\n",
    "clf.fit(X_llm, y_llm)\n",
    "labels = clf.predict(X_test)\n",
    "\n",
    "accuracy = accuracy_score(y_test, labels)\n",
    "prf = precision_recall_fscore_support(y_test, labels)\n",
    "metrics_dict = {\n",
    "    \"Palm-zero-shot\": {\n",
    "        \"Accuracy\": accuracy,\n",
    "        \"Precision\": float(prf[0][1]),\n",
    "        \"Recall\": float(prf[1][1]),\n",
    "        \"F1\": float(prf[2][1]),\n",
    "    }\n",
    "}\n",
    "zero_shot_metrics.append(metrics_dict)"
   ]
  },
  {
   "cell_type": "code",
   "execution_count": 28,
   "metadata": {},
   "outputs": [
    {
     "data": {
      "text/plain": [
       "[{'Gemini-zero-shot': {'Accuracy': 0.805,\n",
       "   'Precision': 0.8791208791208791,\n",
       "   'Recall': 0.903954802259887,\n",
       "   'F1': 0.8913649025069638}},\n",
       " {'Palm-zero-shot': {'Accuracy': 0.755,\n",
       "   'Precision': 0.8809523809523809,\n",
       "   'Recall': 0.8361581920903954,\n",
       "   'F1': 0.8579710144927536}}]"
      ]
     },
     "execution_count": 28,
     "metadata": {},
     "output_type": "execute_result"
    }
   ],
   "source": [
    "zero_shot_metrics"
   ]
  },
  {
   "cell_type": "markdown",
   "metadata": {},
   "source": [
    "## Ollama"
   ]
  },
  {
   "cell_type": "code",
   "execution_count": 29,
   "metadata": {},
   "outputs": [
    {
     "name": "stderr",
     "output_type": "stream",
     "text": [
      "100%|██████████| 200/200 [02:05<00:00,  1.60it/s]\n"
     ]
    }
   ],
   "source": [
    "from skollama.models.ollama.classification.zero_shot import ZeroShotOllamaClassifier\n",
    "from skollama.models.ollama.classification.few_shot import FewShotOllamaClassifier\n",
    "\n",
    "clf = ZeroShotOllamaClassifier(model=\"llama3\")\n",
    "clf.fit(X_llm, y_llm)\n",
    "labels = clf.predict(X_test)\n",
    "\n",
    "accuracy = accuracy_score(y_test, labels)\n",
    "prf = precision_recall_fscore_support(y_test, labels)\n",
    "metrics_dict = {\n",
    "    \"LLama-zero-shot\": {\n",
    "        \"Accuracy\": accuracy,\n",
    "        \"Precision\": float(prf[0][1]),\n",
    "        \"Recall\": float(prf[1][1]),\n",
    "        \"F1\": float(prf[2][1]),\n",
    "    }\n",
    "}\n",
    "zero_shot_metrics.append(metrics_dict)\n",
    "all_metrics.append(metrics_dict)"
   ]
  },
  {
   "cell_type": "code",
   "execution_count": 30,
   "metadata": {},
   "outputs": [
    {
     "name": "stderr",
     "output_type": "stream",
     "text": [
      "100%|██████████| 200/200 [52:20<00:00, 15.70s/it] \n"
     ]
    }
   ],
   "source": [
    "clf = FewShotOllamaClassifier(model=\"llama3\")\n",
    "clf.fit(X_llm, y_llm)\n",
    "labels = clf.predict(X_test)\n",
    "\n",
    "accuracy = accuracy_score(y_test, labels)\n",
    "prf = precision_recall_fscore_support(y_test, labels)\n",
    "metrics_dict = {\n",
    "    \"LLama-few-shot\": {\n",
    "        \"Accuracy\": accuracy,\n",
    "        \"Precision\": float(prf[0][1]),\n",
    "        \"Recall\": float(prf[1][1]),\n",
    "        \"F1\": float(prf[2][1]),\n",
    "    }\n",
    "}\n",
    "few_shot_metrics.append(metrics_dict)\n",
    "all_metrics.append(metrics_dict)"
   ]
  },
  {
   "cell_type": "code",
   "execution_count": 31,
   "metadata": {},
   "outputs": [
    {
     "name": "stderr",
     "output_type": "stream",
     "text": [
      "100%|██████████| 200/200 [02:39<00:00,  1.25it/s]\n"
     ]
    }
   ],
   "source": [
    "clf = ZeroShotOllamaClassifier(model=\"mistral\")\n",
    "clf.fit(X_llm, y_llm)\n",
    "labels = clf.predict(X_test)\n",
    "\n",
    "accuracy = accuracy_score(y_test, labels)\n",
    "prf = precision_recall_fscore_support(y_test, labels)\n",
    "metrics_dict = {\n",
    "    \"Mistral-zero-shot\": {\n",
    "        \"Accuracy\": accuracy,\n",
    "        \"Precision\": float(prf[0][1]),\n",
    "        \"Recall\": float(prf[1][1]),\n",
    "        \"F1\": float(prf[2][1]),\n",
    "    }\n",
    "}\n",
    "zero_shot_metrics.append(metrics_dict)\n",
    "all_metrics.append(metrics_dict)"
   ]
  },
  {
   "cell_type": "code",
   "execution_count": 47,
   "metadata": {},
   "outputs": [
    {
     "name": "stderr",
     "output_type": "stream",
     "text": [
      "100%|██████████| 100/100 [45:21<00:00, 27.22s/it]  \n"
     ]
    }
   ],
   "source": [
    "clf = FewShotOllamaClassifier(model=\"mistral\")\n",
    "clf.fit(X_llm, y_llm)\n",
    "labels = clf.predict(X_test)\n",
    "\n",
    "accuracy = accuracy_score(y_test, labels)\n",
    "prf = precision_recall_fscore_support(y_test, labels)\n",
    "metrics_dict = {\n",
    "    \"Mistral-few-shot\": {\n",
    "        \"Accuracy\": accuracy,\n",
    "        \"Precision\": float(prf[0][1]),\n",
    "        \"Recall\": float(prf[1][1]),\n",
    "        \"F1\": float(prf[2][1]),\n",
    "    }\n",
    "}\n",
    "few_shot_metrics.append(metrics_dict)\n",
    "all_metrics.append(metrics_dict)"
   ]
  },
  {
   "cell_type": "code",
   "execution_count": 33,
   "metadata": {},
   "outputs": [
    {
     "data": {
      "text/plain": [
       "[{'LLama-zero-shot': {'Accuracy': 0.645,\n",
       "   'Precision': 0.8581081081081081,\n",
       "   'Recall': 0.7175141242937854,\n",
       "   'F1': 0.7815384615384615}},\n",
       " {'LLama-few-shot': {'Accuracy': 0.785,\n",
       "   'Precision': 0.8722222222222222,\n",
       "   'Recall': 0.8870056497175142,\n",
       "   'F1': 0.8795518207282913}},\n",
       " {'Mistral-zero-shot': {'Accuracy': 0.785,\n",
       "   'Precision': 0.8764044943820225,\n",
       "   'Recall': 0.8813559322033898,\n",
       "   'F1': 0.8788732394366198}}]"
      ]
     },
     "execution_count": 33,
     "metadata": {},
     "output_type": "execute_result"
    }
   ],
   "source": [
    "all_metrics"
   ]
  },
  {
   "cell_type": "code",
   "execution_count": 34,
   "metadata": {},
   "outputs": [
    {
     "name": "stderr",
     "output_type": "stream",
     "text": [
      "100%|██████████| 200/200 [05:08<00:00,  1.54s/it]\n"
     ]
    }
   ],
   "source": [
    "clf = ZeroShotOllamaClassifier(model=\"gemma\")\n",
    "clf.fit(X_llm, y_llm)\n",
    "labels = clf.predict(X_test)\n",
    "\n",
    "accuracy = accuracy_score(y_test, labels)\n",
    "prf = precision_recall_fscore_support(y_test, labels)\n",
    "metrics_dict = {\n",
    "    \"Gemma-zero-shot\": {\n",
    "        \"Accuracy\": accuracy,\n",
    "        \"Precision\": float(prf[0][1]),\n",
    "        \"Recall\": float(prf[1][1]),\n",
    "        \"F1\": float(prf[2][1]),\n",
    "    }\n",
    "}\n",
    "zero_shot_metrics.append(metrics_dict)"
   ]
  },
  {
   "cell_type": "code",
   "execution_count": 54,
   "metadata": {},
   "outputs": [
    {
     "name": "stderr",
     "output_type": "stream",
     "text": [
      "  6%|▌         | 6/100 [03:42<58:10, 37.14s/it]\n"
     ]
    },
    {
     "ename": "KeyboardInterrupt",
     "evalue": "",
     "output_type": "error",
     "traceback": [
      "\u001b[0;31m---------------------------------------------------------------------------\u001b[0m",
      "\u001b[0;31mKeyboardInterrupt\u001b[0m                         Traceback (most recent call last)",
      "Cell \u001b[0;32mIn[54], line 3\u001b[0m\n\u001b[1;32m      1\u001b[0m clf \u001b[38;5;241m=\u001b[39m FewShotOllamaClassifier(model\u001b[38;5;241m=\u001b[39m\u001b[38;5;124m\"\u001b[39m\u001b[38;5;124mgemma\u001b[39m\u001b[38;5;124m\"\u001b[39m)\n\u001b[1;32m      2\u001b[0m clf\u001b[38;5;241m.\u001b[39mfit(X_llm, y_llm)\n\u001b[0;32m----> 3\u001b[0m labels \u001b[38;5;241m=\u001b[39m \u001b[43mclf\u001b[49m\u001b[38;5;241;43m.\u001b[39;49m\u001b[43mpredict\u001b[49m\u001b[43m(\u001b[49m\u001b[43mX_test\u001b[49m\u001b[43m)\u001b[49m\n\u001b[1;32m      5\u001b[0m accuracy \u001b[38;5;241m=\u001b[39m accuracy_score(y_test, labels)\n\u001b[1;32m      6\u001b[0m prf \u001b[38;5;241m=\u001b[39m precision_recall_fscore_support(y_test, labels)\n",
      "File \u001b[0;32m~/sandbox/cyberdata-mlai/.venv/lib/python3.12/site-packages/skllm/models/_base/classifier.py:252\u001b[0m, in \u001b[0;36mBaseClassifier.predict\u001b[0;34m(self, X, num_workers)\u001b[0m\n\u001b[1;32m    250\u001b[0m     predictions \u001b[38;5;241m=\u001b[39m []\n\u001b[1;32m    251\u001b[0m     \u001b[38;5;28;01mfor\u001b[39;00m x \u001b[38;5;129;01min\u001b[39;00m tqdm(X):\n\u001b[0;32m--> 252\u001b[0m         predictions\u001b[38;5;241m.\u001b[39mappend(\u001b[38;5;28;43mself\u001b[39;49m\u001b[38;5;241;43m.\u001b[39;49m\u001b[43m_predict_single\u001b[49m\u001b[43m(\u001b[49m\u001b[43mx\u001b[49m\u001b[43m)\u001b[49m)\n\u001b[1;32m    254\u001b[0m \u001b[38;5;28;01mreturn\u001b[39;00m np\u001b[38;5;241m.\u001b[39marray(predictions)\n",
      "File \u001b[0;32m~/sandbox/cyberdata-mlai/.venv/lib/python3.12/site-packages/skllm/models/_base/classifier.py:187\u001b[0m, in \u001b[0;36mBaseClassifier._predict_single\u001b[0;34m(self, x)\u001b[0m\n\u001b[1;32m    185\u001b[0m prompt_dict \u001b[38;5;241m=\u001b[39m \u001b[38;5;28mself\u001b[39m\u001b[38;5;241m.\u001b[39m_get_prompt(x)\n\u001b[1;32m    186\u001b[0m \u001b[38;5;66;03m# this will be inherited from the LLM\u001b[39;00m\n\u001b[0;32m--> 187\u001b[0m prediction \u001b[38;5;241m=\u001b[39m \u001b[38;5;28;43mself\u001b[39;49m\u001b[38;5;241;43m.\u001b[39;49m\u001b[43m_get_chat_completion\u001b[49m\u001b[43m(\u001b[49m\u001b[43mmodel\u001b[49m\u001b[38;5;241;43m=\u001b[39;49m\u001b[38;5;28;43mself\u001b[39;49m\u001b[38;5;241;43m.\u001b[39;49m\u001b[43mmodel\u001b[49m\u001b[43m,\u001b[49m\u001b[43m \u001b[49m\u001b[38;5;241;43m*\u001b[39;49m\u001b[38;5;241;43m*\u001b[39;49m\u001b[43mprompt_dict\u001b[49m\u001b[43m)\u001b[49m\n\u001b[1;32m    188\u001b[0m prediction \u001b[38;5;241m=\u001b[39m \u001b[38;5;28mself\u001b[39m\u001b[38;5;241m.\u001b[39m_extract_out_label(prediction)\n\u001b[1;32m    189\u001b[0m \u001b[38;5;66;03m# this will be inherited from the sl/ml mixin\u001b[39;00m\n",
      "File \u001b[0;32m~/sandbox/cyberdata-mlai/.venv/lib/python3.12/site-packages/skollama/llm/ollama/mixin.py:85\u001b[0m, in \u001b[0;36mOllamaCompletionMixin._get_chat_completion\u001b[0;34m(self, model, messages, system_message, **kwargs)\u001b[0m\n\u001b[1;32m     83\u001b[0m     \u001b[38;5;28;01mfor\u001b[39;00m message \u001b[38;5;129;01min\u001b[39;00m messages:\n\u001b[1;32m     84\u001b[0m         msgs\u001b[38;5;241m.\u001b[39mappend(construct_message(message[\u001b[38;5;124m\"\u001b[39m\u001b[38;5;124mrole\u001b[39m\u001b[38;5;124m\"\u001b[39m], message[\u001b[38;5;124m\"\u001b[39m\u001b[38;5;124mcontent\u001b[39m\u001b[38;5;124m\"\u001b[39m]))\n\u001b[0;32m---> 85\u001b[0m completion \u001b[38;5;241m=\u001b[39m \u001b[43mget_chat_completion\u001b[49m\u001b[43m(\u001b[49m\n\u001b[1;32m     86\u001b[0m \u001b[43m    \u001b[49m\u001b[43mmsgs\u001b[49m\u001b[43m,\u001b[49m\n\u001b[1;32m     87\u001b[0m \u001b[43m    \u001b[49m\u001b[43mmodel\u001b[49m\u001b[43m,\u001b[49m\n\u001b[1;32m     88\u001b[0m \u001b[43m    \u001b[49m\u001b[38;5;28;43mself\u001b[39;49m\u001b[38;5;241;43m.\u001b[39;49m\u001b[43mhost\u001b[49m\u001b[43m,\u001b[49m\n\u001b[1;32m     89\u001b[0m \u001b[43m    \u001b[49m\u001b[38;5;28;43mself\u001b[39;49m\u001b[38;5;241;43m.\u001b[39;49m\u001b[43moptions\u001b[49m\u001b[43m,\u001b[49m\n\u001b[1;32m     90\u001b[0m \u001b[43m    \u001b[49m\u001b[38;5;28;43mself\u001b[39;49m\u001b[38;5;241;43m.\u001b[39;49m\u001b[43mformat\u001b[49m\u001b[43m,\u001b[49m\n\u001b[1;32m     91\u001b[0m \u001b[43m\u001b[49m\u001b[43m)\u001b[49m\n\u001b[1;32m     92\u001b[0m \u001b[38;5;28;01mreturn\u001b[39;00m completion\n",
      "File \u001b[0;32m~/sandbox/cyberdata-mlai/.venv/lib/python3.12/site-packages/skollama/llm/ollama/completion.py:28\u001b[0m, in \u001b[0;36mget_chat_completion\u001b[0;34m(messages, model, host, options, format)\u001b[0m\n\u001b[1;32m      8\u001b[0m \u001b[38;5;28;01mdef\u001b[39;00m\u001b[38;5;250m \u001b[39m\u001b[38;5;21mget_chat_completion\u001b[39m(\n\u001b[1;32m      9\u001b[0m     messages: \u001b[38;5;28mdict\u001b[39m,\n\u001b[1;32m     10\u001b[0m     model: \u001b[38;5;28mstr\u001b[39m \u001b[38;5;241m=\u001b[39m \u001b[38;5;124m\"\u001b[39m\u001b[38;5;124mllama3\u001b[39m\u001b[38;5;124m\"\u001b[39m,\n\u001b[0;32m   (...)\u001b[0m\n\u001b[1;32m     13\u001b[0m     \u001b[38;5;28mformat\u001b[39m: BaseModel \u001b[38;5;241m=\u001b[39m \u001b[38;5;124m\"\u001b[39m\u001b[38;5;124m\"\u001b[39m,\n\u001b[1;32m     14\u001b[0m ):\n\u001b[1;32m     15\u001b[0m \u001b[38;5;250m    \u001b[39m\u001b[38;5;124;03m\"\"\"Gets a chat completion from an ollama server running locally or remote.\u001b[39;00m\n\u001b[1;32m     16\u001b[0m \n\u001b[1;32m     17\u001b[0m \u001b[38;5;124;03m    Parameters\u001b[39;00m\n\u001b[0;32m   (...)\u001b[0m\n\u001b[1;32m     26\u001b[0m \u001b[38;5;124;03m        additional options to pass to the Ollama API, by default None\u001b[39;00m\n\u001b[1;32m     27\u001b[0m \u001b[38;5;124;03m    \"\"\"\u001b[39;00m\n\u001b[0;32m---> 28\u001b[0m     \u001b[38;5;28;01mreturn\u001b[39;00m \u001b[43m_ollama_get_chat_completion\u001b[49m\u001b[43m(\u001b[49m\n\u001b[1;32m     29\u001b[0m \u001b[43m        \u001b[49m\u001b[43mmessages\u001b[49m\u001b[38;5;241;43m=\u001b[39;49m\u001b[43mmessages\u001b[49m\u001b[43m,\u001b[49m\u001b[43m \u001b[49m\u001b[43mmodel\u001b[49m\u001b[38;5;241;43m=\u001b[39;49m\u001b[43mmodel\u001b[49m\u001b[43m,\u001b[49m\u001b[43m \u001b[49m\u001b[43mhost\u001b[49m\u001b[38;5;241;43m=\u001b[39;49m\u001b[43mhost\u001b[49m\u001b[43m,\u001b[49m\u001b[43m \u001b[49m\u001b[43moptions\u001b[49m\u001b[38;5;241;43m=\u001b[39;49m\u001b[43moptions\u001b[49m\u001b[43m,\u001b[49m\u001b[43m \u001b[49m\u001b[38;5;28;43mformat\u001b[39;49m\u001b[38;5;241;43m=\u001b[39;49m\u001b[38;5;28;43mformat\u001b[39;49m\n\u001b[1;32m     30\u001b[0m \u001b[43m    \u001b[49m\u001b[43m)\u001b[49m\n",
      "File \u001b[0;32m~/sandbox/cyberdata-mlai/.venv/lib/python3.12/site-packages/skllm/utils/__init__.py:107\u001b[0m, in \u001b[0;36mretry.<locals>.decorator.<locals>.wrapper\u001b[0;34m(*args, **kwargs)\u001b[0m\n\u001b[1;32m    105\u001b[0m \u001b[38;5;28;01mfor\u001b[39;00m attempt \u001b[38;5;129;01min\u001b[39;00m \u001b[38;5;28mrange\u001b[39m(max_retries):\n\u001b[1;32m    106\u001b[0m     \u001b[38;5;28;01mtry\u001b[39;00m:\n\u001b[0;32m--> 107\u001b[0m         \u001b[38;5;28;01mreturn\u001b[39;00m \u001b[43mfunc\u001b[49m\u001b[43m(\u001b[49m\u001b[38;5;241;43m*\u001b[39;49m\u001b[43margs\u001b[49m\u001b[43m,\u001b[49m\u001b[43m \u001b[49m\u001b[38;5;241;43m*\u001b[39;49m\u001b[38;5;241;43m*\u001b[39;49m\u001b[43mkwargs\u001b[49m\u001b[43m)\u001b[49m\n\u001b[1;32m    108\u001b[0m     \u001b[38;5;28;01mexcept\u001b[39;00m \u001b[38;5;167;01mException\u001b[39;00m \u001b[38;5;28;01mas\u001b[39;00m e:\n\u001b[1;32m    109\u001b[0m         error_msg \u001b[38;5;241m=\u001b[39m \u001b[38;5;28mstr\u001b[39m(e)\n",
      "File \u001b[0;32m~/sandbox/cyberdata-mlai/.venv/lib/python3.12/site-packages/skollama/llm/ollama/clients/ollama/completion.py:32\u001b[0m, in \u001b[0;36mget_chat_completion\u001b[0;34m(messages, model, host, options, format)\u001b[0m\n\u001b[1;32m     30\u001b[0m client \u001b[38;5;241m=\u001b[39m Client(host\u001b[38;5;241m=\u001b[39mhost)\n\u001b[1;32m     31\u001b[0m \u001b[38;5;66;03m# completion = client.generate(model=model, messages=messages) # TODO proliferate options\u001b[39;00m\n\u001b[0;32m---> 32\u001b[0m completion \u001b[38;5;241m=\u001b[39m \u001b[43mclient\u001b[49m\u001b[38;5;241;43m.\u001b[39;49m\u001b[43mchat\u001b[49m\u001b[43m(\u001b[49m\n\u001b[1;32m     33\u001b[0m \u001b[43m    \u001b[49m\u001b[43mmodel\u001b[49m\u001b[38;5;241;43m=\u001b[39;49m\u001b[43mmodel\u001b[49m\u001b[43m,\u001b[49m\n\u001b[1;32m     34\u001b[0m \u001b[43m    \u001b[49m\u001b[43mmessages\u001b[49m\u001b[38;5;241;43m=\u001b[39;49m\u001b[43mmessages\u001b[49m\u001b[43m,\u001b[49m\n\u001b[1;32m     35\u001b[0m \u001b[43m    \u001b[49m\u001b[43moptions\u001b[49m\u001b[38;5;241;43m=\u001b[39;49m\u001b[43moptions\u001b[49m\u001b[43m,\u001b[49m\n\u001b[1;32m     36\u001b[0m \u001b[43m    \u001b[49m\u001b[38;5;28;43mformat\u001b[39;49m\u001b[38;5;241;43m=\u001b[39;49m\u001b[38;5;28;43mformat\u001b[39;49m\u001b[43m,\u001b[49m\n\u001b[1;32m     37\u001b[0m \u001b[43m\u001b[49m\u001b[43m)\u001b[49m  \u001b[38;5;66;03m# TODO proliferate options\u001b[39;00m\n\u001b[1;32m     38\u001b[0m \u001b[38;5;28;01mreturn\u001b[39;00m completion\n",
      "File \u001b[0;32m~/sandbox/cyberdata-mlai/.venv/lib/python3.12/site-packages/ollama/_client.py:333\u001b[0m, in \u001b[0;36mClient.chat\u001b[0;34m(self, model, messages, tools, stream, format, options, keep_alive)\u001b[0m\n\u001b[1;32m    289\u001b[0m \u001b[38;5;28;01mdef\u001b[39;00m\u001b[38;5;250m \u001b[39m\u001b[38;5;21mchat\u001b[39m(\n\u001b[1;32m    290\u001b[0m   \u001b[38;5;28mself\u001b[39m,\n\u001b[1;32m    291\u001b[0m   model: \u001b[38;5;28mstr\u001b[39m \u001b[38;5;241m=\u001b[39m \u001b[38;5;124m'\u001b[39m\u001b[38;5;124m'\u001b[39m,\n\u001b[0;32m   (...)\u001b[0m\n\u001b[1;32m    298\u001b[0m   keep_alive: Optional[Union[\u001b[38;5;28mfloat\u001b[39m, \u001b[38;5;28mstr\u001b[39m]] \u001b[38;5;241m=\u001b[39m \u001b[38;5;28;01mNone\u001b[39;00m,\n\u001b[1;32m    299\u001b[0m ) \u001b[38;5;241m-\u001b[39m\u001b[38;5;241m>\u001b[39m Union[ChatResponse, Iterator[ChatResponse]]:\n\u001b[1;32m    300\u001b[0m \u001b[38;5;250m  \u001b[39m\u001b[38;5;124;03m\"\"\"\u001b[39;00m\n\u001b[1;32m    301\u001b[0m \u001b[38;5;124;03m  Create a chat response using the requested model.\u001b[39;00m\n\u001b[1;32m    302\u001b[0m \n\u001b[0;32m   (...)\u001b[0m\n\u001b[1;32m    331\u001b[0m \u001b[38;5;124;03m  Returns `ChatResponse` if `stream` is `False`, otherwise returns a `ChatResponse` generator.\u001b[39;00m\n\u001b[1;32m    332\u001b[0m \u001b[38;5;124;03m  \"\"\"\u001b[39;00m\n\u001b[0;32m--> 333\u001b[0m   \u001b[38;5;28;01mreturn\u001b[39;00m \u001b[38;5;28;43mself\u001b[39;49m\u001b[38;5;241;43m.\u001b[39;49m\u001b[43m_request\u001b[49m\u001b[43m(\u001b[49m\n\u001b[1;32m    334\u001b[0m \u001b[43m    \u001b[49m\u001b[43mChatResponse\u001b[49m\u001b[43m,\u001b[49m\n\u001b[1;32m    335\u001b[0m \u001b[43m    \u001b[49m\u001b[38;5;124;43m'\u001b[39;49m\u001b[38;5;124;43mPOST\u001b[39;49m\u001b[38;5;124;43m'\u001b[39;49m\u001b[43m,\u001b[49m\n\u001b[1;32m    336\u001b[0m \u001b[43m    \u001b[49m\u001b[38;5;124;43m'\u001b[39;49m\u001b[38;5;124;43m/api/chat\u001b[39;49m\u001b[38;5;124;43m'\u001b[39;49m\u001b[43m,\u001b[49m\n\u001b[1;32m    337\u001b[0m \u001b[43m    \u001b[49m\u001b[43mjson\u001b[49m\u001b[38;5;241;43m=\u001b[39;49m\u001b[43mChatRequest\u001b[49m\u001b[43m(\u001b[49m\n\u001b[1;32m    338\u001b[0m \u001b[43m      \u001b[49m\u001b[43mmodel\u001b[49m\u001b[38;5;241;43m=\u001b[39;49m\u001b[43mmodel\u001b[49m\u001b[43m,\u001b[49m\n\u001b[1;32m    339\u001b[0m \u001b[43m      \u001b[49m\u001b[43mmessages\u001b[49m\u001b[38;5;241;43m=\u001b[39;49m\u001b[43m[\u001b[49m\u001b[43mmessage\u001b[49m\u001b[43m \u001b[49m\u001b[38;5;28;43;01mfor\u001b[39;49;00m\u001b[43m \u001b[49m\u001b[43mmessage\u001b[49m\u001b[43m \u001b[49m\u001b[38;5;129;43;01min\u001b[39;49;00m\u001b[43m \u001b[49m\u001b[43m_copy_messages\u001b[49m\u001b[43m(\u001b[49m\u001b[43mmessages\u001b[49m\u001b[43m)\u001b[49m\u001b[43m]\u001b[49m\u001b[43m,\u001b[49m\n\u001b[1;32m    340\u001b[0m \u001b[43m      \u001b[49m\u001b[43mtools\u001b[49m\u001b[38;5;241;43m=\u001b[39;49m\u001b[43m[\u001b[49m\u001b[43mtool\u001b[49m\u001b[43m \u001b[49m\u001b[38;5;28;43;01mfor\u001b[39;49;00m\u001b[43m \u001b[49m\u001b[43mtool\u001b[49m\u001b[43m \u001b[49m\u001b[38;5;129;43;01min\u001b[39;49;00m\u001b[43m \u001b[49m\u001b[43m_copy_tools\u001b[49m\u001b[43m(\u001b[49m\u001b[43mtools\u001b[49m\u001b[43m)\u001b[49m\u001b[43m]\u001b[49m\u001b[43m,\u001b[49m\n\u001b[1;32m    341\u001b[0m \u001b[43m      \u001b[49m\u001b[43mstream\u001b[49m\u001b[38;5;241;43m=\u001b[39;49m\u001b[43mstream\u001b[49m\u001b[43m,\u001b[49m\n\u001b[1;32m    342\u001b[0m \u001b[43m      \u001b[49m\u001b[38;5;28;43mformat\u001b[39;49m\u001b[38;5;241;43m=\u001b[39;49m\u001b[38;5;28;43mformat\u001b[39;49m\u001b[43m,\u001b[49m\n\u001b[1;32m    343\u001b[0m \u001b[43m      \u001b[49m\u001b[43moptions\u001b[49m\u001b[38;5;241;43m=\u001b[39;49m\u001b[43moptions\u001b[49m\u001b[43m,\u001b[49m\n\u001b[1;32m    344\u001b[0m \u001b[43m      \u001b[49m\u001b[43mkeep_alive\u001b[49m\u001b[38;5;241;43m=\u001b[39;49m\u001b[43mkeep_alive\u001b[49m\u001b[43m,\u001b[49m\n\u001b[1;32m    345\u001b[0m \u001b[43m    \u001b[49m\u001b[43m)\u001b[49m\u001b[38;5;241;43m.\u001b[39;49m\u001b[43mmodel_dump\u001b[49m\u001b[43m(\u001b[49m\u001b[43mexclude_none\u001b[49m\u001b[38;5;241;43m=\u001b[39;49m\u001b[38;5;28;43;01mTrue\u001b[39;49;00m\u001b[43m)\u001b[49m\u001b[43m,\u001b[49m\n\u001b[1;32m    346\u001b[0m \u001b[43m    \u001b[49m\u001b[43mstream\u001b[49m\u001b[38;5;241;43m=\u001b[39;49m\u001b[43mstream\u001b[49m\u001b[43m,\u001b[49m\n\u001b[1;32m    347\u001b[0m \u001b[43m  \u001b[49m\u001b[43m)\u001b[49m\n",
      "File \u001b[0;32m~/sandbox/cyberdata-mlai/.venv/lib/python3.12/site-packages/ollama/_client.py:178\u001b[0m, in \u001b[0;36mClient._request\u001b[0;34m(self, cls, stream, *args, **kwargs)\u001b[0m\n\u001b[1;32m    174\u001b[0m         \u001b[38;5;28;01myield\u001b[39;00m \u001b[38;5;28mcls\u001b[39m(\u001b[38;5;241m*\u001b[39m\u001b[38;5;241m*\u001b[39mpart)\n\u001b[1;32m    176\u001b[0m   \u001b[38;5;28;01mreturn\u001b[39;00m inner()\n\u001b[0;32m--> 178\u001b[0m \u001b[38;5;28;01mreturn\u001b[39;00m \u001b[38;5;28mcls\u001b[39m(\u001b[38;5;241m*\u001b[39m\u001b[38;5;241m*\u001b[39m\u001b[38;5;28;43mself\u001b[39;49m\u001b[38;5;241;43m.\u001b[39;49m\u001b[43m_request_raw\u001b[49m\u001b[43m(\u001b[49m\u001b[38;5;241;43m*\u001b[39;49m\u001b[43margs\u001b[49m\u001b[43m,\u001b[49m\u001b[43m \u001b[49m\u001b[38;5;241;43m*\u001b[39;49m\u001b[38;5;241;43m*\u001b[39;49m\u001b[43mkwargs\u001b[49m\u001b[43m)\u001b[49m\u001b[38;5;241m.\u001b[39mjson())\n",
      "File \u001b[0;32m~/sandbox/cyberdata-mlai/.venv/lib/python3.12/site-packages/ollama/_client.py:118\u001b[0m, in \u001b[0;36mClient._request_raw\u001b[0;34m(self, *args, **kwargs)\u001b[0m\n\u001b[1;32m    116\u001b[0m \u001b[38;5;28;01mdef\u001b[39;00m\u001b[38;5;250m \u001b[39m\u001b[38;5;21m_request_raw\u001b[39m(\u001b[38;5;28mself\u001b[39m, \u001b[38;5;241m*\u001b[39margs, \u001b[38;5;241m*\u001b[39m\u001b[38;5;241m*\u001b[39mkwargs):\n\u001b[1;32m    117\u001b[0m   \u001b[38;5;28;01mtry\u001b[39;00m:\n\u001b[0;32m--> 118\u001b[0m     r \u001b[38;5;241m=\u001b[39m \u001b[38;5;28;43mself\u001b[39;49m\u001b[38;5;241;43m.\u001b[39;49m\u001b[43m_client\u001b[49m\u001b[38;5;241;43m.\u001b[39;49m\u001b[43mrequest\u001b[49m\u001b[43m(\u001b[49m\u001b[38;5;241;43m*\u001b[39;49m\u001b[43margs\u001b[49m\u001b[43m,\u001b[49m\u001b[43m \u001b[49m\u001b[38;5;241;43m*\u001b[39;49m\u001b[38;5;241;43m*\u001b[39;49m\u001b[43mkwargs\u001b[49m\u001b[43m)\u001b[49m\n\u001b[1;32m    119\u001b[0m     r\u001b[38;5;241m.\u001b[39mraise_for_status()\n\u001b[1;32m    120\u001b[0m     \u001b[38;5;28;01mreturn\u001b[39;00m r\n",
      "File \u001b[0;32m~/sandbox/cyberdata-mlai/.venv/lib/python3.12/site-packages/httpx/_client.py:825\u001b[0m, in \u001b[0;36mClient.request\u001b[0;34m(self, method, url, content, data, files, json, params, headers, cookies, auth, follow_redirects, timeout, extensions)\u001b[0m\n\u001b[1;32m    810\u001b[0m     warnings\u001b[38;5;241m.\u001b[39mwarn(message, \u001b[38;5;167;01mDeprecationWarning\u001b[39;00m, stacklevel\u001b[38;5;241m=\u001b[39m\u001b[38;5;241m2\u001b[39m)\n\u001b[1;32m    812\u001b[0m request \u001b[38;5;241m=\u001b[39m \u001b[38;5;28mself\u001b[39m\u001b[38;5;241m.\u001b[39mbuild_request(\n\u001b[1;32m    813\u001b[0m     method\u001b[38;5;241m=\u001b[39mmethod,\n\u001b[1;32m    814\u001b[0m     url\u001b[38;5;241m=\u001b[39murl,\n\u001b[0;32m   (...)\u001b[0m\n\u001b[1;32m    823\u001b[0m     extensions\u001b[38;5;241m=\u001b[39mextensions,\n\u001b[1;32m    824\u001b[0m )\n\u001b[0;32m--> 825\u001b[0m \u001b[38;5;28;01mreturn\u001b[39;00m \u001b[38;5;28;43mself\u001b[39;49m\u001b[38;5;241;43m.\u001b[39;49m\u001b[43msend\u001b[49m\u001b[43m(\u001b[49m\u001b[43mrequest\u001b[49m\u001b[43m,\u001b[49m\u001b[43m \u001b[49m\u001b[43mauth\u001b[49m\u001b[38;5;241;43m=\u001b[39;49m\u001b[43mauth\u001b[49m\u001b[43m,\u001b[49m\u001b[43m \u001b[49m\u001b[43mfollow_redirects\u001b[49m\u001b[38;5;241;43m=\u001b[39;49m\u001b[43mfollow_redirects\u001b[49m\u001b[43m)\u001b[49m\n",
      "File \u001b[0;32m~/sandbox/cyberdata-mlai/.venv/lib/python3.12/site-packages/httpx/_client.py:914\u001b[0m, in \u001b[0;36mClient.send\u001b[0;34m(self, request, stream, auth, follow_redirects)\u001b[0m\n\u001b[1;32m    910\u001b[0m \u001b[38;5;28mself\u001b[39m\u001b[38;5;241m.\u001b[39m_set_timeout(request)\n\u001b[1;32m    912\u001b[0m auth \u001b[38;5;241m=\u001b[39m \u001b[38;5;28mself\u001b[39m\u001b[38;5;241m.\u001b[39m_build_request_auth(request, auth)\n\u001b[0;32m--> 914\u001b[0m response \u001b[38;5;241m=\u001b[39m \u001b[38;5;28;43mself\u001b[39;49m\u001b[38;5;241;43m.\u001b[39;49m\u001b[43m_send_handling_auth\u001b[49m\u001b[43m(\u001b[49m\n\u001b[1;32m    915\u001b[0m \u001b[43m    \u001b[49m\u001b[43mrequest\u001b[49m\u001b[43m,\u001b[49m\n\u001b[1;32m    916\u001b[0m \u001b[43m    \u001b[49m\u001b[43mauth\u001b[49m\u001b[38;5;241;43m=\u001b[39;49m\u001b[43mauth\u001b[49m\u001b[43m,\u001b[49m\n\u001b[1;32m    917\u001b[0m \u001b[43m    \u001b[49m\u001b[43mfollow_redirects\u001b[49m\u001b[38;5;241;43m=\u001b[39;49m\u001b[43mfollow_redirects\u001b[49m\u001b[43m,\u001b[49m\n\u001b[1;32m    918\u001b[0m \u001b[43m    \u001b[49m\u001b[43mhistory\u001b[49m\u001b[38;5;241;43m=\u001b[39;49m\u001b[43m[\u001b[49m\u001b[43m]\u001b[49m\u001b[43m,\u001b[49m\n\u001b[1;32m    919\u001b[0m \u001b[43m\u001b[49m\u001b[43m)\u001b[49m\n\u001b[1;32m    920\u001b[0m \u001b[38;5;28;01mtry\u001b[39;00m:\n\u001b[1;32m    921\u001b[0m     \u001b[38;5;28;01mif\u001b[39;00m \u001b[38;5;129;01mnot\u001b[39;00m stream:\n",
      "File \u001b[0;32m~/sandbox/cyberdata-mlai/.venv/lib/python3.12/site-packages/httpx/_client.py:942\u001b[0m, in \u001b[0;36mClient._send_handling_auth\u001b[0;34m(self, request, auth, follow_redirects, history)\u001b[0m\n\u001b[1;32m    939\u001b[0m request \u001b[38;5;241m=\u001b[39m \u001b[38;5;28mnext\u001b[39m(auth_flow)\n\u001b[1;32m    941\u001b[0m \u001b[38;5;28;01mwhile\u001b[39;00m \u001b[38;5;28;01mTrue\u001b[39;00m:\n\u001b[0;32m--> 942\u001b[0m     response \u001b[38;5;241m=\u001b[39m \u001b[38;5;28;43mself\u001b[39;49m\u001b[38;5;241;43m.\u001b[39;49m\u001b[43m_send_handling_redirects\u001b[49m\u001b[43m(\u001b[49m\n\u001b[1;32m    943\u001b[0m \u001b[43m        \u001b[49m\u001b[43mrequest\u001b[49m\u001b[43m,\u001b[49m\n\u001b[1;32m    944\u001b[0m \u001b[43m        \u001b[49m\u001b[43mfollow_redirects\u001b[49m\u001b[38;5;241;43m=\u001b[39;49m\u001b[43mfollow_redirects\u001b[49m\u001b[43m,\u001b[49m\n\u001b[1;32m    945\u001b[0m \u001b[43m        \u001b[49m\u001b[43mhistory\u001b[49m\u001b[38;5;241;43m=\u001b[39;49m\u001b[43mhistory\u001b[49m\u001b[43m,\u001b[49m\n\u001b[1;32m    946\u001b[0m \u001b[43m    \u001b[49m\u001b[43m)\u001b[49m\n\u001b[1;32m    947\u001b[0m     \u001b[38;5;28;01mtry\u001b[39;00m:\n\u001b[1;32m    948\u001b[0m         \u001b[38;5;28;01mtry\u001b[39;00m:\n",
      "File \u001b[0;32m~/sandbox/cyberdata-mlai/.venv/lib/python3.12/site-packages/httpx/_client.py:979\u001b[0m, in \u001b[0;36mClient._send_handling_redirects\u001b[0;34m(self, request, follow_redirects, history)\u001b[0m\n\u001b[1;32m    976\u001b[0m \u001b[38;5;28;01mfor\u001b[39;00m hook \u001b[38;5;129;01min\u001b[39;00m \u001b[38;5;28mself\u001b[39m\u001b[38;5;241m.\u001b[39m_event_hooks[\u001b[38;5;124m\"\u001b[39m\u001b[38;5;124mrequest\u001b[39m\u001b[38;5;124m\"\u001b[39m]:\n\u001b[1;32m    977\u001b[0m     hook(request)\n\u001b[0;32m--> 979\u001b[0m response \u001b[38;5;241m=\u001b[39m \u001b[38;5;28;43mself\u001b[39;49m\u001b[38;5;241;43m.\u001b[39;49m\u001b[43m_send_single_request\u001b[49m\u001b[43m(\u001b[49m\u001b[43mrequest\u001b[49m\u001b[43m)\u001b[49m\n\u001b[1;32m    980\u001b[0m \u001b[38;5;28;01mtry\u001b[39;00m:\n\u001b[1;32m    981\u001b[0m     \u001b[38;5;28;01mfor\u001b[39;00m hook \u001b[38;5;129;01min\u001b[39;00m \u001b[38;5;28mself\u001b[39m\u001b[38;5;241m.\u001b[39m_event_hooks[\u001b[38;5;124m\"\u001b[39m\u001b[38;5;124mresponse\u001b[39m\u001b[38;5;124m\"\u001b[39m]:\n",
      "File \u001b[0;32m~/sandbox/cyberdata-mlai/.venv/lib/python3.12/site-packages/httpx/_client.py:1014\u001b[0m, in \u001b[0;36mClient._send_single_request\u001b[0;34m(self, request)\u001b[0m\n\u001b[1;32m   1009\u001b[0m     \u001b[38;5;28;01mraise\u001b[39;00m \u001b[38;5;167;01mRuntimeError\u001b[39;00m(\n\u001b[1;32m   1010\u001b[0m         \u001b[38;5;124m\"\u001b[39m\u001b[38;5;124mAttempted to send an async request with a sync Client instance.\u001b[39m\u001b[38;5;124m\"\u001b[39m\n\u001b[1;32m   1011\u001b[0m     )\n\u001b[1;32m   1013\u001b[0m \u001b[38;5;28;01mwith\u001b[39;00m request_context(request\u001b[38;5;241m=\u001b[39mrequest):\n\u001b[0;32m-> 1014\u001b[0m     response \u001b[38;5;241m=\u001b[39m \u001b[43mtransport\u001b[49m\u001b[38;5;241;43m.\u001b[39;49m\u001b[43mhandle_request\u001b[49m\u001b[43m(\u001b[49m\u001b[43mrequest\u001b[49m\u001b[43m)\u001b[49m\n\u001b[1;32m   1016\u001b[0m \u001b[38;5;28;01massert\u001b[39;00m \u001b[38;5;28misinstance\u001b[39m(response\u001b[38;5;241m.\u001b[39mstream, SyncByteStream)\n\u001b[1;32m   1018\u001b[0m response\u001b[38;5;241m.\u001b[39mrequest \u001b[38;5;241m=\u001b[39m request\n",
      "File \u001b[0;32m~/sandbox/cyberdata-mlai/.venv/lib/python3.12/site-packages/httpx/_transports/default.py:250\u001b[0m, in \u001b[0;36mHTTPTransport.handle_request\u001b[0;34m(self, request)\u001b[0m\n\u001b[1;32m    237\u001b[0m req \u001b[38;5;241m=\u001b[39m httpcore\u001b[38;5;241m.\u001b[39mRequest(\n\u001b[1;32m    238\u001b[0m     method\u001b[38;5;241m=\u001b[39mrequest\u001b[38;5;241m.\u001b[39mmethod,\n\u001b[1;32m    239\u001b[0m     url\u001b[38;5;241m=\u001b[39mhttpcore\u001b[38;5;241m.\u001b[39mURL(\n\u001b[0;32m   (...)\u001b[0m\n\u001b[1;32m    247\u001b[0m     extensions\u001b[38;5;241m=\u001b[39mrequest\u001b[38;5;241m.\u001b[39mextensions,\n\u001b[1;32m    248\u001b[0m )\n\u001b[1;32m    249\u001b[0m \u001b[38;5;28;01mwith\u001b[39;00m map_httpcore_exceptions():\n\u001b[0;32m--> 250\u001b[0m     resp \u001b[38;5;241m=\u001b[39m \u001b[38;5;28;43mself\u001b[39;49m\u001b[38;5;241;43m.\u001b[39;49m\u001b[43m_pool\u001b[49m\u001b[38;5;241;43m.\u001b[39;49m\u001b[43mhandle_request\u001b[49m\u001b[43m(\u001b[49m\u001b[43mreq\u001b[49m\u001b[43m)\u001b[49m\n\u001b[1;32m    252\u001b[0m \u001b[38;5;28;01massert\u001b[39;00m \u001b[38;5;28misinstance\u001b[39m(resp\u001b[38;5;241m.\u001b[39mstream, typing\u001b[38;5;241m.\u001b[39mIterable)\n\u001b[1;32m    254\u001b[0m \u001b[38;5;28;01mreturn\u001b[39;00m Response(\n\u001b[1;32m    255\u001b[0m     status_code\u001b[38;5;241m=\u001b[39mresp\u001b[38;5;241m.\u001b[39mstatus,\n\u001b[1;32m    256\u001b[0m     headers\u001b[38;5;241m=\u001b[39mresp\u001b[38;5;241m.\u001b[39mheaders,\n\u001b[1;32m    257\u001b[0m     stream\u001b[38;5;241m=\u001b[39mResponseStream(resp\u001b[38;5;241m.\u001b[39mstream),\n\u001b[1;32m    258\u001b[0m     extensions\u001b[38;5;241m=\u001b[39mresp\u001b[38;5;241m.\u001b[39mextensions,\n\u001b[1;32m    259\u001b[0m )\n",
      "File \u001b[0;32m~/sandbox/cyberdata-mlai/.venv/lib/python3.12/site-packages/httpcore/_sync/connection_pool.py:256\u001b[0m, in \u001b[0;36mConnectionPool.handle_request\u001b[0;34m(self, request)\u001b[0m\n\u001b[1;32m    253\u001b[0m         closing \u001b[38;5;241m=\u001b[39m \u001b[38;5;28mself\u001b[39m\u001b[38;5;241m.\u001b[39m_assign_requests_to_connections()\n\u001b[1;32m    255\u001b[0m     \u001b[38;5;28mself\u001b[39m\u001b[38;5;241m.\u001b[39m_close_connections(closing)\n\u001b[0;32m--> 256\u001b[0m     \u001b[38;5;28;01mraise\u001b[39;00m exc \u001b[38;5;28;01mfrom\u001b[39;00m\u001b[38;5;250m \u001b[39m\u001b[38;5;28;01mNone\u001b[39;00m\n\u001b[1;32m    258\u001b[0m \u001b[38;5;66;03m# Return the response. Note that in this case we still have to manage\u001b[39;00m\n\u001b[1;32m    259\u001b[0m \u001b[38;5;66;03m# the point at which the response is closed.\u001b[39;00m\n\u001b[1;32m    260\u001b[0m \u001b[38;5;28;01massert\u001b[39;00m \u001b[38;5;28misinstance\u001b[39m(response\u001b[38;5;241m.\u001b[39mstream, typing\u001b[38;5;241m.\u001b[39mIterable)\n",
      "File \u001b[0;32m~/sandbox/cyberdata-mlai/.venv/lib/python3.12/site-packages/httpcore/_sync/connection_pool.py:236\u001b[0m, in \u001b[0;36mConnectionPool.handle_request\u001b[0;34m(self, request)\u001b[0m\n\u001b[1;32m    232\u001b[0m connection \u001b[38;5;241m=\u001b[39m pool_request\u001b[38;5;241m.\u001b[39mwait_for_connection(timeout\u001b[38;5;241m=\u001b[39mtimeout)\n\u001b[1;32m    234\u001b[0m \u001b[38;5;28;01mtry\u001b[39;00m:\n\u001b[1;32m    235\u001b[0m     \u001b[38;5;66;03m# Send the request on the assigned connection.\u001b[39;00m\n\u001b[0;32m--> 236\u001b[0m     response \u001b[38;5;241m=\u001b[39m \u001b[43mconnection\u001b[49m\u001b[38;5;241;43m.\u001b[39;49m\u001b[43mhandle_request\u001b[49m\u001b[43m(\u001b[49m\n\u001b[1;32m    237\u001b[0m \u001b[43m        \u001b[49m\u001b[43mpool_request\u001b[49m\u001b[38;5;241;43m.\u001b[39;49m\u001b[43mrequest\u001b[49m\n\u001b[1;32m    238\u001b[0m \u001b[43m    \u001b[49m\u001b[43m)\u001b[49m\n\u001b[1;32m    239\u001b[0m \u001b[38;5;28;01mexcept\u001b[39;00m ConnectionNotAvailable:\n\u001b[1;32m    240\u001b[0m     \u001b[38;5;66;03m# In some cases a connection may initially be available to\u001b[39;00m\n\u001b[1;32m    241\u001b[0m     \u001b[38;5;66;03m# handle a request, but then become unavailable.\u001b[39;00m\n\u001b[1;32m    242\u001b[0m     \u001b[38;5;66;03m#\u001b[39;00m\n\u001b[1;32m    243\u001b[0m     \u001b[38;5;66;03m# In this case we clear the connection and try again.\u001b[39;00m\n\u001b[1;32m    244\u001b[0m     pool_request\u001b[38;5;241m.\u001b[39mclear_connection()\n",
      "File \u001b[0;32m~/sandbox/cyberdata-mlai/.venv/lib/python3.12/site-packages/httpcore/_sync/connection.py:103\u001b[0m, in \u001b[0;36mHTTPConnection.handle_request\u001b[0;34m(self, request)\u001b[0m\n\u001b[1;32m    100\u001b[0m     \u001b[38;5;28mself\u001b[39m\u001b[38;5;241m.\u001b[39m_connect_failed \u001b[38;5;241m=\u001b[39m \u001b[38;5;28;01mTrue\u001b[39;00m\n\u001b[1;32m    101\u001b[0m     \u001b[38;5;28;01mraise\u001b[39;00m exc\n\u001b[0;32m--> 103\u001b[0m \u001b[38;5;28;01mreturn\u001b[39;00m \u001b[38;5;28;43mself\u001b[39;49m\u001b[38;5;241;43m.\u001b[39;49m\u001b[43m_connection\u001b[49m\u001b[38;5;241;43m.\u001b[39;49m\u001b[43mhandle_request\u001b[49m\u001b[43m(\u001b[49m\u001b[43mrequest\u001b[49m\u001b[43m)\u001b[49m\n",
      "File \u001b[0;32m~/sandbox/cyberdata-mlai/.venv/lib/python3.12/site-packages/httpcore/_sync/http11.py:136\u001b[0m, in \u001b[0;36mHTTP11Connection.handle_request\u001b[0;34m(self, request)\u001b[0m\n\u001b[1;32m    134\u001b[0m     \u001b[38;5;28;01mwith\u001b[39;00m Trace(\u001b[38;5;124m\"\u001b[39m\u001b[38;5;124mresponse_closed\u001b[39m\u001b[38;5;124m\"\u001b[39m, logger, request) \u001b[38;5;28;01mas\u001b[39;00m trace:\n\u001b[1;32m    135\u001b[0m         \u001b[38;5;28mself\u001b[39m\u001b[38;5;241m.\u001b[39m_response_closed()\n\u001b[0;32m--> 136\u001b[0m \u001b[38;5;28;01mraise\u001b[39;00m exc\n",
      "File \u001b[0;32m~/sandbox/cyberdata-mlai/.venv/lib/python3.12/site-packages/httpcore/_sync/http11.py:106\u001b[0m, in \u001b[0;36mHTTP11Connection.handle_request\u001b[0;34m(self, request)\u001b[0m\n\u001b[1;32m     95\u001b[0m     \u001b[38;5;28;01mpass\u001b[39;00m\n\u001b[1;32m     97\u001b[0m \u001b[38;5;28;01mwith\u001b[39;00m Trace(\n\u001b[1;32m     98\u001b[0m     \u001b[38;5;124m\"\u001b[39m\u001b[38;5;124mreceive_response_headers\u001b[39m\u001b[38;5;124m\"\u001b[39m, logger, request, kwargs\n\u001b[1;32m     99\u001b[0m ) \u001b[38;5;28;01mas\u001b[39;00m trace:\n\u001b[1;32m    100\u001b[0m     (\n\u001b[1;32m    101\u001b[0m         http_version,\n\u001b[1;32m    102\u001b[0m         status,\n\u001b[1;32m    103\u001b[0m         reason_phrase,\n\u001b[1;32m    104\u001b[0m         headers,\n\u001b[1;32m    105\u001b[0m         trailing_data,\n\u001b[0;32m--> 106\u001b[0m     ) \u001b[38;5;241m=\u001b[39m \u001b[38;5;28;43mself\u001b[39;49m\u001b[38;5;241;43m.\u001b[39;49m\u001b[43m_receive_response_headers\u001b[49m\u001b[43m(\u001b[49m\u001b[38;5;241;43m*\u001b[39;49m\u001b[38;5;241;43m*\u001b[39;49m\u001b[43mkwargs\u001b[49m\u001b[43m)\u001b[49m\n\u001b[1;32m    107\u001b[0m     trace\u001b[38;5;241m.\u001b[39mreturn_value \u001b[38;5;241m=\u001b[39m (\n\u001b[1;32m    108\u001b[0m         http_version,\n\u001b[1;32m    109\u001b[0m         status,\n\u001b[1;32m    110\u001b[0m         reason_phrase,\n\u001b[1;32m    111\u001b[0m         headers,\n\u001b[1;32m    112\u001b[0m     )\n\u001b[1;32m    114\u001b[0m network_stream \u001b[38;5;241m=\u001b[39m \u001b[38;5;28mself\u001b[39m\u001b[38;5;241m.\u001b[39m_network_stream\n",
      "File \u001b[0;32m~/sandbox/cyberdata-mlai/.venv/lib/python3.12/site-packages/httpcore/_sync/http11.py:177\u001b[0m, in \u001b[0;36mHTTP11Connection._receive_response_headers\u001b[0;34m(self, request)\u001b[0m\n\u001b[1;32m    174\u001b[0m timeout \u001b[38;5;241m=\u001b[39m timeouts\u001b[38;5;241m.\u001b[39mget(\u001b[38;5;124m\"\u001b[39m\u001b[38;5;124mread\u001b[39m\u001b[38;5;124m\"\u001b[39m, \u001b[38;5;28;01mNone\u001b[39;00m)\n\u001b[1;32m    176\u001b[0m \u001b[38;5;28;01mwhile\u001b[39;00m \u001b[38;5;28;01mTrue\u001b[39;00m:\n\u001b[0;32m--> 177\u001b[0m     event \u001b[38;5;241m=\u001b[39m \u001b[38;5;28;43mself\u001b[39;49m\u001b[38;5;241;43m.\u001b[39;49m\u001b[43m_receive_event\u001b[49m\u001b[43m(\u001b[49m\u001b[43mtimeout\u001b[49m\u001b[38;5;241;43m=\u001b[39;49m\u001b[43mtimeout\u001b[49m\u001b[43m)\u001b[49m\n\u001b[1;32m    178\u001b[0m     \u001b[38;5;28;01mif\u001b[39;00m \u001b[38;5;28misinstance\u001b[39m(event, h11\u001b[38;5;241m.\u001b[39mResponse):\n\u001b[1;32m    179\u001b[0m         \u001b[38;5;28;01mbreak\u001b[39;00m\n",
      "File \u001b[0;32m~/sandbox/cyberdata-mlai/.venv/lib/python3.12/site-packages/httpcore/_sync/http11.py:217\u001b[0m, in \u001b[0;36mHTTP11Connection._receive_event\u001b[0;34m(self, timeout)\u001b[0m\n\u001b[1;32m    214\u001b[0m     event \u001b[38;5;241m=\u001b[39m \u001b[38;5;28mself\u001b[39m\u001b[38;5;241m.\u001b[39m_h11_state\u001b[38;5;241m.\u001b[39mnext_event()\n\u001b[1;32m    216\u001b[0m \u001b[38;5;28;01mif\u001b[39;00m event \u001b[38;5;129;01mis\u001b[39;00m h11\u001b[38;5;241m.\u001b[39mNEED_DATA:\n\u001b[0;32m--> 217\u001b[0m     data \u001b[38;5;241m=\u001b[39m \u001b[38;5;28;43mself\u001b[39;49m\u001b[38;5;241;43m.\u001b[39;49m\u001b[43m_network_stream\u001b[49m\u001b[38;5;241;43m.\u001b[39;49m\u001b[43mread\u001b[49m\u001b[43m(\u001b[49m\n\u001b[1;32m    218\u001b[0m \u001b[43m        \u001b[49m\u001b[38;5;28;43mself\u001b[39;49m\u001b[38;5;241;43m.\u001b[39;49m\u001b[43mREAD_NUM_BYTES\u001b[49m\u001b[43m,\u001b[49m\u001b[43m \u001b[49m\u001b[43mtimeout\u001b[49m\u001b[38;5;241;43m=\u001b[39;49m\u001b[43mtimeout\u001b[49m\n\u001b[1;32m    219\u001b[0m \u001b[43m    \u001b[49m\u001b[43m)\u001b[49m\n\u001b[1;32m    221\u001b[0m     \u001b[38;5;66;03m# If we feed this case through h11 we'll raise an exception like:\u001b[39;00m\n\u001b[1;32m    222\u001b[0m     \u001b[38;5;66;03m#\u001b[39;00m\n\u001b[1;32m    223\u001b[0m     \u001b[38;5;66;03m#     httpcore.RemoteProtocolError: can't handle event type\u001b[39;00m\n\u001b[0;32m   (...)\u001b[0m\n\u001b[1;32m    227\u001b[0m     \u001b[38;5;66;03m# perspective. Instead we handle this case distinctly and treat\u001b[39;00m\n\u001b[1;32m    228\u001b[0m     \u001b[38;5;66;03m# it as a ConnectError.\u001b[39;00m\n\u001b[1;32m    229\u001b[0m     \u001b[38;5;28;01mif\u001b[39;00m data \u001b[38;5;241m==\u001b[39m \u001b[38;5;124mb\u001b[39m\u001b[38;5;124m\"\u001b[39m\u001b[38;5;124m\"\u001b[39m \u001b[38;5;129;01mand\u001b[39;00m \u001b[38;5;28mself\u001b[39m\u001b[38;5;241m.\u001b[39m_h11_state\u001b[38;5;241m.\u001b[39mtheir_state \u001b[38;5;241m==\u001b[39m h11\u001b[38;5;241m.\u001b[39mSEND_RESPONSE:\n",
      "File \u001b[0;32m~/sandbox/cyberdata-mlai/.venv/lib/python3.12/site-packages/httpcore/_backends/sync.py:128\u001b[0m, in \u001b[0;36mSyncStream.read\u001b[0;34m(self, max_bytes, timeout)\u001b[0m\n\u001b[1;32m    126\u001b[0m \u001b[38;5;28;01mwith\u001b[39;00m map_exceptions(exc_map):\n\u001b[1;32m    127\u001b[0m     \u001b[38;5;28mself\u001b[39m\u001b[38;5;241m.\u001b[39m_sock\u001b[38;5;241m.\u001b[39msettimeout(timeout)\n\u001b[0;32m--> 128\u001b[0m     \u001b[38;5;28;01mreturn\u001b[39;00m \u001b[38;5;28;43mself\u001b[39;49m\u001b[38;5;241;43m.\u001b[39;49m\u001b[43m_sock\u001b[49m\u001b[38;5;241;43m.\u001b[39;49m\u001b[43mrecv\u001b[49m\u001b[43m(\u001b[49m\u001b[43mmax_bytes\u001b[49m\u001b[43m)\u001b[49m\n",
      "\u001b[0;31mKeyboardInterrupt\u001b[0m: "
     ]
    }
   ],
   "source": [
    "clf = FewShotOllamaClassifier(model=\"gemma\")\n",
    "clf.fit(X_llm, y_llm)\n",
    "labels = clf.predict(X_test)\n",
    "\n",
    "accuracy = accuracy_score(y_test, labels)\n",
    "prf = precision_recall_fscore_support(y_test, labels)\n",
    "metrics_dict = {\n",
    "    \"Gemma-few-shot\": {\n",
    "        \"Accuracy\": accuracy,\n",
    "        \"Precision\": float(prf[0][1]),\n",
    "        \"Recall\": float(prf[1][1]),\n",
    "        \"F1\": float(prf[2][1]),\n",
    "    }\n",
    "}\n",
    "all_metrics.append(metrics_dict)"
   ]
  },
  {
   "cell_type": "code",
   "execution_count": 36,
   "metadata": {},
   "outputs": [
    {
     "name": "stderr",
     "output_type": "stream",
     "text": [
      "100%|██████████| 200/200 [13:44<00:00,  4.12s/it]\n"
     ]
    }
   ],
   "source": [
    "clf = ZeroShotOllamaClassifier(model=\"phi\")\n",
    "clf.fit(X_llm, y_llm)\n",
    "labels = clf.predict(X_test)\n",
    "\n",
    "accuracy = accuracy_score(y_test, labels)\n",
    "prf = precision_recall_fscore_support(y_test, labels)\n",
    "metrics_dict = {\n",
    "    \"Phi-zero-shot\": {\n",
    "        \"Accuracy\": accuracy,\n",
    "        \"Precision\": float(prf[0][1]),\n",
    "        \"Recall\": float(prf[1][1]),\n",
    "        \"F1\": float(prf[2][1]),\n",
    "    }\n",
    "}\n",
    "zero_shot_metrics.append(metrics_dict)\n",
    "all_metrics.append(metrics_dict)"
   ]
  },
  {
   "cell_type": "code",
   "execution_count": 48,
   "metadata": {},
   "outputs": [
    {
     "name": "stderr",
     "output_type": "stream",
     "text": [
      "100%|██████████| 100/100 [21:42<00:00, 13.02s/it]\n"
     ]
    }
   ],
   "source": [
    "clf = FewShotOllamaClassifier(model=\"phi\")\n",
    "clf.fit(X_llm, y_llm)\n",
    "labels = clf.predict(X_test)\n",
    "\n",
    "accuracy = accuracy_score(y_test, labels)\n",
    "prf = precision_recall_fscore_support(y_test, labels)\n",
    "metrics_dict = {\n",
    "    \"Phi-few-shot\": {\n",
    "        \"Accuracy\": accuracy,\n",
    "        \"Precision\": float(prf[0][1]),\n",
    "        \"Recall\": float(prf[1][1]),\n",
    "        \"F1\": float(prf[2][1]),\n",
    "    }\n",
    "}\n",
    "few_shot_metrics.append(metrics_dict)\n",
    "all_metrics.append(metrics_dict)"
   ]
  },
  {
   "cell_type": "code",
   "execution_count": 49,
   "metadata": {},
   "outputs": [
    {
     "data": {
      "text/plain": [
       "[{'LLama-zero-shot': {'Accuracy': 0.645,\n",
       "   'Precision': 0.8581081081081081,\n",
       "   'Recall': 0.7175141242937854,\n",
       "   'F1': 0.7815384615384615}},\n",
       " {'LLama-few-shot': {'Accuracy': 0.785,\n",
       "   'Precision': 0.8722222222222222,\n",
       "   'Recall': 0.8870056497175142,\n",
       "   'F1': 0.8795518207282913}},\n",
       " {'Mistral-zero-shot': {'Accuracy': 0.785,\n",
       "   'Precision': 0.8764044943820225,\n",
       "   'Recall': 0.8813559322033898,\n",
       "   'F1': 0.8788732394366198}},\n",
       " {'Phi-zero-shot': {'Accuracy': 0.745,\n",
       "   'Precision': 0.875,\n",
       "   'Recall': 0.8305084745762712,\n",
       "   'F1': 0.8521739130434782}},\n",
       " {'Mistral-few-shot': {'Accuracy': 0.82,\n",
       "   'Precision': 0.8941176470588236,\n",
       "   'Recall': 0.8941176470588236,\n",
       "   'F1': 0.8941176470588236}},\n",
       " {'Phi-few-shot': {'Accuracy': 0.83,\n",
       "   'Precision': 0.8617021276595744,\n",
       "   'Recall': 0.9529411764705882,\n",
       "   'F1': 0.9050279329608939}}]"
      ]
     },
     "execution_count": 49,
     "metadata": {},
     "output_type": "execute_result"
    }
   ],
   "source": [
    "all_metrics"
   ]
  },
  {
   "cell_type": "code",
   "execution_count": 50,
   "metadata": {},
   "outputs": [
    {
     "data": {
      "text/html": [
       "<div>\n",
       "<style scoped>\n",
       "    .dataframe tbody tr th:only-of-type {\n",
       "        vertical-align: middle;\n",
       "    }\n",
       "\n",
       "    .dataframe tbody tr th {\n",
       "        vertical-align: top;\n",
       "    }\n",
       "\n",
       "    .dataframe thead th {\n",
       "        text-align: right;\n",
       "    }\n",
       "</style>\n",
       "<table border=\"1\" class=\"dataframe\">\n",
       "  <thead>\n",
       "    <tr style=\"text-align: right;\">\n",
       "      <th></th>\n",
       "      <th>Model</th>\n",
       "      <th>Metric</th>\n",
       "      <th>Score</th>\n",
       "    </tr>\n",
       "  </thead>\n",
       "  <tbody>\n",
       "    <tr>\n",
       "      <th>0</th>\n",
       "      <td>LLama-zero-shot</td>\n",
       "      <td>Accuracy</td>\n",
       "      <td>0.645000</td>\n",
       "    </tr>\n",
       "    <tr>\n",
       "      <th>1</th>\n",
       "      <td>LLama-zero-shot</td>\n",
       "      <td>Precision</td>\n",
       "      <td>0.858108</td>\n",
       "    </tr>\n",
       "    <tr>\n",
       "      <th>2</th>\n",
       "      <td>LLama-zero-shot</td>\n",
       "      <td>Recall</td>\n",
       "      <td>0.717514</td>\n",
       "    </tr>\n",
       "    <tr>\n",
       "      <th>3</th>\n",
       "      <td>LLama-zero-shot</td>\n",
       "      <td>F1</td>\n",
       "      <td>0.781538</td>\n",
       "    </tr>\n",
       "    <tr>\n",
       "      <th>4</th>\n",
       "      <td>LLama-few-shot</td>\n",
       "      <td>Accuracy</td>\n",
       "      <td>0.785000</td>\n",
       "    </tr>\n",
       "    <tr>\n",
       "      <th>5</th>\n",
       "      <td>LLama-few-shot</td>\n",
       "      <td>Precision</td>\n",
       "      <td>0.872222</td>\n",
       "    </tr>\n",
       "    <tr>\n",
       "      <th>6</th>\n",
       "      <td>LLama-few-shot</td>\n",
       "      <td>Recall</td>\n",
       "      <td>0.887006</td>\n",
       "    </tr>\n",
       "    <tr>\n",
       "      <th>7</th>\n",
       "      <td>LLama-few-shot</td>\n",
       "      <td>F1</td>\n",
       "      <td>0.879552</td>\n",
       "    </tr>\n",
       "    <tr>\n",
       "      <th>8</th>\n",
       "      <td>Mistral-zero-shot</td>\n",
       "      <td>Accuracy</td>\n",
       "      <td>0.785000</td>\n",
       "    </tr>\n",
       "    <tr>\n",
       "      <th>9</th>\n",
       "      <td>Mistral-zero-shot</td>\n",
       "      <td>Precision</td>\n",
       "      <td>0.876404</td>\n",
       "    </tr>\n",
       "    <tr>\n",
       "      <th>10</th>\n",
       "      <td>Mistral-zero-shot</td>\n",
       "      <td>Recall</td>\n",
       "      <td>0.881356</td>\n",
       "    </tr>\n",
       "    <tr>\n",
       "      <th>11</th>\n",
       "      <td>Mistral-zero-shot</td>\n",
       "      <td>F1</td>\n",
       "      <td>0.878873</td>\n",
       "    </tr>\n",
       "    <tr>\n",
       "      <th>12</th>\n",
       "      <td>Phi-zero-shot</td>\n",
       "      <td>Accuracy</td>\n",
       "      <td>0.745000</td>\n",
       "    </tr>\n",
       "    <tr>\n",
       "      <th>13</th>\n",
       "      <td>Phi-zero-shot</td>\n",
       "      <td>Precision</td>\n",
       "      <td>0.875000</td>\n",
       "    </tr>\n",
       "    <tr>\n",
       "      <th>14</th>\n",
       "      <td>Phi-zero-shot</td>\n",
       "      <td>Recall</td>\n",
       "      <td>0.830508</td>\n",
       "    </tr>\n",
       "    <tr>\n",
       "      <th>15</th>\n",
       "      <td>Phi-zero-shot</td>\n",
       "      <td>F1</td>\n",
       "      <td>0.852174</td>\n",
       "    </tr>\n",
       "    <tr>\n",
       "      <th>16</th>\n",
       "      <td>Mistral-few-shot</td>\n",
       "      <td>Accuracy</td>\n",
       "      <td>0.820000</td>\n",
       "    </tr>\n",
       "    <tr>\n",
       "      <th>17</th>\n",
       "      <td>Mistral-few-shot</td>\n",
       "      <td>Precision</td>\n",
       "      <td>0.894118</td>\n",
       "    </tr>\n",
       "    <tr>\n",
       "      <th>18</th>\n",
       "      <td>Mistral-few-shot</td>\n",
       "      <td>Recall</td>\n",
       "      <td>0.894118</td>\n",
       "    </tr>\n",
       "    <tr>\n",
       "      <th>19</th>\n",
       "      <td>Mistral-few-shot</td>\n",
       "      <td>F1</td>\n",
       "      <td>0.894118</td>\n",
       "    </tr>\n",
       "    <tr>\n",
       "      <th>20</th>\n",
       "      <td>Phi-few-shot</td>\n",
       "      <td>Accuracy</td>\n",
       "      <td>0.830000</td>\n",
       "    </tr>\n",
       "    <tr>\n",
       "      <th>21</th>\n",
       "      <td>Phi-few-shot</td>\n",
       "      <td>Precision</td>\n",
       "      <td>0.861702</td>\n",
       "    </tr>\n",
       "    <tr>\n",
       "      <th>22</th>\n",
       "      <td>Phi-few-shot</td>\n",
       "      <td>Recall</td>\n",
       "      <td>0.952941</td>\n",
       "    </tr>\n",
       "    <tr>\n",
       "      <th>23</th>\n",
       "      <td>Phi-few-shot</td>\n",
       "      <td>F1</td>\n",
       "      <td>0.905028</td>\n",
       "    </tr>\n",
       "  </tbody>\n",
       "</table>\n",
       "</div>"
      ],
      "text/plain": [
       "                Model     Metric     Score\n",
       "0     LLama-zero-shot   Accuracy  0.645000\n",
       "1     LLama-zero-shot  Precision  0.858108\n",
       "2     LLama-zero-shot     Recall  0.717514\n",
       "3     LLama-zero-shot         F1  0.781538\n",
       "4      LLama-few-shot   Accuracy  0.785000\n",
       "5      LLama-few-shot  Precision  0.872222\n",
       "6      LLama-few-shot     Recall  0.887006\n",
       "7      LLama-few-shot         F1  0.879552\n",
       "8   Mistral-zero-shot   Accuracy  0.785000\n",
       "9   Mistral-zero-shot  Precision  0.876404\n",
       "10  Mistral-zero-shot     Recall  0.881356\n",
       "11  Mistral-zero-shot         F1  0.878873\n",
       "12      Phi-zero-shot   Accuracy  0.745000\n",
       "13      Phi-zero-shot  Precision  0.875000\n",
       "14      Phi-zero-shot     Recall  0.830508\n",
       "15      Phi-zero-shot         F1  0.852174\n",
       "16   Mistral-few-shot   Accuracy  0.820000\n",
       "17   Mistral-few-shot  Precision  0.894118\n",
       "18   Mistral-few-shot     Recall  0.894118\n",
       "19   Mistral-few-shot         F1  0.894118\n",
       "20       Phi-few-shot   Accuracy  0.830000\n",
       "21       Phi-few-shot  Precision  0.861702\n",
       "22       Phi-few-shot     Recall  0.952941\n",
       "23       Phi-few-shot         F1  0.905028"
      ]
     },
     "execution_count": 50,
     "metadata": {},
     "output_type": "execute_result"
    }
   ],
   "source": [
    "# Convert to long-format DataFrame\n",
    "all_scores_df_long = pd.DataFrame(\n",
    "    [\n",
    "        {\"Model\": list(item.keys())[0], \"Metric\": metric, \"Score\": value}\n",
    "        for item in all_metrics \n",
    "        for metric, value in list(item.values())[0].items()\n",
    "    ]\n",
    ")\n",
    "all_scores_df_long.to_csv(\"all_scores_classification.csv\", index=False)\n",
    "all_scores_df_long"
   ]
  },
  {
   "cell_type": "code",
   "execution_count": 51,
   "metadata": {},
   "outputs": [
    {
     "data": {
      "image/png": "[encoded data removed]",
      "text/plain": [
       "<Figure size 1200x600 with 1 Axes>"
      ]
     },
     "metadata": {},
     "output_type": "display_data"
    }
   ],
   "source": [
    "import matplotlib.pyplot as plt\n",
    "import seaborn as sns\n",
    "\n",
    "# Create the plot\n",
    "plt.figure(figsize=(12, 6))\n",
    "sns.barplot(x=\"Metric\", y=\"Score\", hue=\"Model\", data=all_scores_df_long)\n",
    "\n",
    "# Customize the plot\n",
    "plt.title(\"Classification Evaluation Zero Shot vs Few Shot.\", fontsize=16)\n",
    "plt.xlabel(\"Metrics\", fontsize=12)\n",
    "plt.ylabel(\"Score\", fontsize=12)\n",
    "plt.xticks(rotation=45)\n",
    "plt.legend(title=\"Model\", bbox_to_anchor=(1.05, 1), loc=\"upper left\")\n",
    "plt.tight_layout()\n",
    "\n",
    "# Show the plot\n",
    "plt.show()"
   ]
  },
  {
   "cell_type": "code",
   "execution_count": 41,
   "metadata": {},
   "outputs": [
    {
     "data": {
      "text/html": [
       "<div>\n",
       "<style scoped>\n",
       "    .dataframe tbody tr th:only-of-type {\n",
       "        vertical-align: middle;\n",
       "    }\n",
       "\n",
       "    .dataframe tbody tr th {\n",
       "        vertical-align: top;\n",
       "    }\n",
       "\n",
       "    .dataframe thead th {\n",
       "        text-align: right;\n",
       "    }\n",
       "</style>\n",
       "<table border=\"1\" class=\"dataframe\">\n",
       "  <thead>\n",
       "    <tr style=\"text-align: right;\">\n",
       "      <th></th>\n",
       "      <th>Model</th>\n",
       "      <th>Metric</th>\n",
       "      <th>Score</th>\n",
       "    </tr>\n",
       "  </thead>\n",
       "  <tbody>\n",
       "    <tr>\n",
       "      <th>0</th>\n",
       "      <td>Gemini-zero-shot</td>\n",
       "      <td>Accuracy</td>\n",
       "      <td>0.805000</td>\n",
       "    </tr>\n",
       "    <tr>\n",
       "      <th>1</th>\n",
       "      <td>Gemini-zero-shot</td>\n",
       "      <td>Precision</td>\n",
       "      <td>0.879121</td>\n",
       "    </tr>\n",
       "    <tr>\n",
       "      <th>2</th>\n",
       "      <td>Gemini-zero-shot</td>\n",
       "      <td>Recall</td>\n",
       "      <td>0.903955</td>\n",
       "    </tr>\n",
       "    <tr>\n",
       "      <th>3</th>\n",
       "      <td>Gemini-zero-shot</td>\n",
       "      <td>F1</td>\n",
       "      <td>0.891365</td>\n",
       "    </tr>\n",
       "    <tr>\n",
       "      <th>4</th>\n",
       "      <td>Palm-zero-shot</td>\n",
       "      <td>Accuracy</td>\n",
       "      <td>0.755000</td>\n",
       "    </tr>\n",
       "    <tr>\n",
       "      <th>5</th>\n",
       "      <td>Palm-zero-shot</td>\n",
       "      <td>Precision</td>\n",
       "      <td>0.880952</td>\n",
       "    </tr>\n",
       "    <tr>\n",
       "      <th>6</th>\n",
       "      <td>Palm-zero-shot</td>\n",
       "      <td>Recall</td>\n",
       "      <td>0.836158</td>\n",
       "    </tr>\n",
       "    <tr>\n",
       "      <th>7</th>\n",
       "      <td>Palm-zero-shot</td>\n",
       "      <td>F1</td>\n",
       "      <td>0.857971</td>\n",
       "    </tr>\n",
       "    <tr>\n",
       "      <th>8</th>\n",
       "      <td>LLama-zero-shot</td>\n",
       "      <td>Accuracy</td>\n",
       "      <td>0.645000</td>\n",
       "    </tr>\n",
       "    <tr>\n",
       "      <th>9</th>\n",
       "      <td>LLama-zero-shot</td>\n",
       "      <td>Precision</td>\n",
       "      <td>0.858108</td>\n",
       "    </tr>\n",
       "    <tr>\n",
       "      <th>10</th>\n",
       "      <td>LLama-zero-shot</td>\n",
       "      <td>Recall</td>\n",
       "      <td>0.717514</td>\n",
       "    </tr>\n",
       "    <tr>\n",
       "      <th>11</th>\n",
       "      <td>LLama-zero-shot</td>\n",
       "      <td>F1</td>\n",
       "      <td>0.781538</td>\n",
       "    </tr>\n",
       "    <tr>\n",
       "      <th>12</th>\n",
       "      <td>Mistral-zero-shot</td>\n",
       "      <td>Accuracy</td>\n",
       "      <td>0.785000</td>\n",
       "    </tr>\n",
       "    <tr>\n",
       "      <th>13</th>\n",
       "      <td>Mistral-zero-shot</td>\n",
       "      <td>Precision</td>\n",
       "      <td>0.876404</td>\n",
       "    </tr>\n",
       "    <tr>\n",
       "      <th>14</th>\n",
       "      <td>Mistral-zero-shot</td>\n",
       "      <td>Recall</td>\n",
       "      <td>0.881356</td>\n",
       "    </tr>\n",
       "    <tr>\n",
       "      <th>15</th>\n",
       "      <td>Mistral-zero-shot</td>\n",
       "      <td>F1</td>\n",
       "      <td>0.878873</td>\n",
       "    </tr>\n",
       "    <tr>\n",
       "      <th>16</th>\n",
       "      <td>Gemma-zero-shot</td>\n",
       "      <td>Accuracy</td>\n",
       "      <td>0.795000</td>\n",
       "    </tr>\n",
       "    <tr>\n",
       "      <th>17</th>\n",
       "      <td>Gemma-zero-shot</td>\n",
       "      <td>Precision</td>\n",
       "      <td>0.890805</td>\n",
       "    </tr>\n",
       "    <tr>\n",
       "      <th>18</th>\n",
       "      <td>Gemma-zero-shot</td>\n",
       "      <td>Recall</td>\n",
       "      <td>0.875706</td>\n",
       "    </tr>\n",
       "    <tr>\n",
       "      <th>19</th>\n",
       "      <td>Gemma-zero-shot</td>\n",
       "      <td>F1</td>\n",
       "      <td>0.883191</td>\n",
       "    </tr>\n",
       "    <tr>\n",
       "      <th>20</th>\n",
       "      <td>Phi-zero-shot</td>\n",
       "      <td>Accuracy</td>\n",
       "      <td>0.745000</td>\n",
       "    </tr>\n",
       "    <tr>\n",
       "      <th>21</th>\n",
       "      <td>Phi-zero-shot</td>\n",
       "      <td>Precision</td>\n",
       "      <td>0.875000</td>\n",
       "    </tr>\n",
       "    <tr>\n",
       "      <th>22</th>\n",
       "      <td>Phi-zero-shot</td>\n",
       "      <td>Recall</td>\n",
       "      <td>0.830508</td>\n",
       "    </tr>\n",
       "    <tr>\n",
       "      <th>23</th>\n",
       "      <td>Phi-zero-shot</td>\n",
       "      <td>F1</td>\n",
       "      <td>0.852174</td>\n",
       "    </tr>\n",
       "  </tbody>\n",
       "</table>\n",
       "</div>"
      ],
      "text/plain": [
       "                Model     Metric     Score\n",
       "0    Gemini-zero-shot   Accuracy  0.805000\n",
       "1    Gemini-zero-shot  Precision  0.879121\n",
       "2    Gemini-zero-shot     Recall  0.903955\n",
       "3    Gemini-zero-shot         F1  0.891365\n",
       "4      Palm-zero-shot   Accuracy  0.755000\n",
       "5      Palm-zero-shot  Precision  0.880952\n",
       "6      Palm-zero-shot     Recall  0.836158\n",
       "7      Palm-zero-shot         F1  0.857971\n",
       "8     LLama-zero-shot   Accuracy  0.645000\n",
       "9     LLama-zero-shot  Precision  0.858108\n",
       "10    LLama-zero-shot     Recall  0.717514\n",
       "11    LLama-zero-shot         F1  0.781538\n",
       "12  Mistral-zero-shot   Accuracy  0.785000\n",
       "13  Mistral-zero-shot  Precision  0.876404\n",
       "14  Mistral-zero-shot     Recall  0.881356\n",
       "15  Mistral-zero-shot         F1  0.878873\n",
       "16    Gemma-zero-shot   Accuracy  0.795000\n",
       "17    Gemma-zero-shot  Precision  0.890805\n",
       "18    Gemma-zero-shot     Recall  0.875706\n",
       "19    Gemma-zero-shot         F1  0.883191\n",
       "20      Phi-zero-shot   Accuracy  0.745000\n",
       "21      Phi-zero-shot  Precision  0.875000\n",
       "22      Phi-zero-shot     Recall  0.830508\n",
       "23      Phi-zero-shot         F1  0.852174"
      ]
     },
     "execution_count": 41,
     "metadata": {},
     "output_type": "execute_result"
    }
   ],
   "source": [
    "# Convert to long-format DataFrame\n",
    "zero_scores_df_long = pd.DataFrame(\n",
    "    [\n",
    "        {\"Model\": list(item.keys())[0], \"Metric\": metric, \"Score\": value}\n",
    "        for item in zero_shot_metrics\n",
    "        for metric, value in list(item.values())[0].items()\n",
    "    ]\n",
    ")\n",
    "zero_scores_df_long.to_csv(\"zero_shot_scores.csv\", index=False)\n",
    "zero_scores_df_long"
   ]
  },
  {
   "cell_type": "code",
   "execution_count": 42,
   "metadata": {},
   "outputs": [
    {
     "data": {
      "image/png": "[encoded data removed]",
      "text/plain": [
       "<Figure size 1200x600 with 1 Axes>"
      ]
     },
     "metadata": {},
     "output_type": "display_data"
    }
   ],
   "source": [
    "import matplotlib.pyplot as plt\n",
    "import seaborn as sns\n",
    "\n",
    "# Create the plot\n",
    "plt.figure(figsize=(12, 6))\n",
    "sns.barplot(x=\"Metric\", y=\"Score\", hue=\"Model\", data=zero_scores_df_long)\n",
    "\n",
    "# Customize the plot\n",
    "plt.title(\"Classification Evaluation for Different Models with Zero Shot.\", fontsize=16)\n",
    "plt.xlabel(\"Metrics\", fontsize=12)\n",
    "plt.ylabel(\"Score\", fontsize=12)\n",
    "plt.xticks(rotation=45)\n",
    "plt.legend(title=\"Model\", bbox_to_anchor=(1.05, 1), loc=\"upper left\")\n",
    "plt.tight_layout()\n",
    "\n",
    "# Show the plot\n",
    "plt.show()"
   ]
  },
  {
   "cell_type": "code",
   "execution_count": 52,
   "metadata": {},
   "outputs": [
    {
     "data": {
      "text/html": [
       "<div>\n",
       "<style scoped>\n",
       "    .dataframe tbody tr th:only-of-type {\n",
       "        vertical-align: middle;\n",
       "    }\n",
       "\n",
       "    .dataframe tbody tr th {\n",
       "        vertical-align: top;\n",
       "    }\n",
       "\n",
       "    .dataframe thead th {\n",
       "        text-align: right;\n",
       "    }\n",
       "</style>\n",
       "<table border=\"1\" class=\"dataframe\">\n",
       "  <thead>\n",
       "    <tr style=\"text-align: right;\">\n",
       "      <th></th>\n",
       "      <th>Model</th>\n",
       "      <th>Metric</th>\n",
       "      <th>Score</th>\n",
       "    </tr>\n",
       "  </thead>\n",
       "  <tbody>\n",
       "    <tr>\n",
       "      <th>0</th>\n",
       "      <td>LLama-few-shot</td>\n",
       "      <td>Accuracy</td>\n",
       "      <td>0.785000</td>\n",
       "    </tr>\n",
       "    <tr>\n",
       "      <th>1</th>\n",
       "      <td>LLama-few-shot</td>\n",
       "      <td>Precision</td>\n",
       "      <td>0.872222</td>\n",
       "    </tr>\n",
       "    <tr>\n",
       "      <th>2</th>\n",
       "      <td>LLama-few-shot</td>\n",
       "      <td>Recall</td>\n",
       "      <td>0.887006</td>\n",
       "    </tr>\n",
       "    <tr>\n",
       "      <th>3</th>\n",
       "      <td>LLama-few-shot</td>\n",
       "      <td>F1</td>\n",
       "      <td>0.879552</td>\n",
       "    </tr>\n",
       "    <tr>\n",
       "      <th>4</th>\n",
       "      <td>Mistral-few-shot</td>\n",
       "      <td>Accuracy</td>\n",
       "      <td>0.820000</td>\n",
       "    </tr>\n",
       "    <tr>\n",
       "      <th>5</th>\n",
       "      <td>Mistral-few-shot</td>\n",
       "      <td>Precision</td>\n",
       "      <td>0.894118</td>\n",
       "    </tr>\n",
       "    <tr>\n",
       "      <th>6</th>\n",
       "      <td>Mistral-few-shot</td>\n",
       "      <td>Recall</td>\n",
       "      <td>0.894118</td>\n",
       "    </tr>\n",
       "    <tr>\n",
       "      <th>7</th>\n",
       "      <td>Mistral-few-shot</td>\n",
       "      <td>F1</td>\n",
       "      <td>0.894118</td>\n",
       "    </tr>\n",
       "    <tr>\n",
       "      <th>8</th>\n",
       "      <td>Phi-few-shot</td>\n",
       "      <td>Accuracy</td>\n",
       "      <td>0.830000</td>\n",
       "    </tr>\n",
       "    <tr>\n",
       "      <th>9</th>\n",
       "      <td>Phi-few-shot</td>\n",
       "      <td>Precision</td>\n",
       "      <td>0.861702</td>\n",
       "    </tr>\n",
       "    <tr>\n",
       "      <th>10</th>\n",
       "      <td>Phi-few-shot</td>\n",
       "      <td>Recall</td>\n",
       "      <td>0.952941</td>\n",
       "    </tr>\n",
       "    <tr>\n",
       "      <th>11</th>\n",
       "      <td>Phi-few-shot</td>\n",
       "      <td>F1</td>\n",
       "      <td>0.905028</td>\n",
       "    </tr>\n",
       "  </tbody>\n",
       "</table>\n",
       "</div>"
      ],
      "text/plain": [
       "               Model     Metric     Score\n",
       "0     LLama-few-shot   Accuracy  0.785000\n",
       "1     LLama-few-shot  Precision  0.872222\n",
       "2     LLama-few-shot     Recall  0.887006\n",
       "3     LLama-few-shot         F1  0.879552\n",
       "4   Mistral-few-shot   Accuracy  0.820000\n",
       "5   Mistral-few-shot  Precision  0.894118\n",
       "6   Mistral-few-shot     Recall  0.894118\n",
       "7   Mistral-few-shot         F1  0.894118\n",
       "8       Phi-few-shot   Accuracy  0.830000\n",
       "9       Phi-few-shot  Precision  0.861702\n",
       "10      Phi-few-shot     Recall  0.952941\n",
       "11      Phi-few-shot         F1  0.905028"
      ]
     },
     "execution_count": 52,
     "metadata": {},
     "output_type": "execute_result"
    }
   ],
   "source": [
    "# Convert to long-format DataFrame\n",
    "few_scores_df_long = pd.DataFrame(\n",
    "    [\n",
    "        {\"Model\": list(item.keys())[0], \"Metric\": metric, \"Score\": value}\n",
    "        for item in few_shot_metrics\n",
    "        for metric, value in list(item.values())[0].items()\n",
    "    ]\n",
    ")\n",
    "few_scores_df_long.to_csv(\"few_shot_scores.csv\", index=False)\n",
    "few_scores_df_long"
   ]
  },
  {
   "cell_type": "code",
   "execution_count": 53,
   "metadata": {},
   "outputs": [
    {
     "data": {
      "image/png": "[encoded data removed]",
      "text/plain": [
       "<Figure size 1200x600 with 1 Axes>"
      ]
     },
     "metadata": {},
     "output_type": "display_data"
    }
   ],
   "source": [
    "import matplotlib.pyplot as plt\n",
    "import seaborn as sns\n",
    "\n",
    "# Create the plot\n",
    "plt.figure(figsize=(12, 6))\n",
    "sns.barplot(x=\"Metric\", y=\"Score\", hue=\"Model\", data=few_scores_df_long)\n",
    "\n",
    "# Customize the plot\n",
    "plt.title(\"Classification Evaluation for Different Models with Few Shot.\", fontsize=16)\n",
    "plt.xlabel(\"Metrics\", fontsize=12)\n",
    "plt.ylabel(\"Score\", fontsize=12)\n",
    "plt.xticks(rotation=45)\n",
    "plt.legend(title=\"Model\", bbox_to_anchor=(1.05, 1), loc=\"upper left\")\n",
    "plt.tight_layout()\n",
    "\n",
    "# Show the plot\n",
    "plt.show()"
   ]
  },
  {
   "cell_type": "markdown",
   "metadata": {},
   "source": [
    "# Fine Tuning"
   ]
  },
  {
   "cell_type": "code",
   "execution_count": null,
   "metadata": {},
   "outputs": [],
   "source": [
    "from skllm.models.gpt.classification.tunable import GPTClassifier\n",
    "\n",
    "clf = GPTClassifier(\n",
    "    base_model=\"gpt-3.5-turbo-0613\",\n",
    "    n_epochs=None,  # int or None. When None, will be determined automatically by OpenAI\n",
    "    default_label=\"Random\",  # optional\n",
    ")\n",
    "\n",
    "clf.fit(X_llm, y_llm)  # y_train is a list of labels\n",
    "labels = clf.predict(X_test)"
   ]
  },
  {
   "cell_type": "code",
   "execution_count": null,
   "metadata": {},
   "outputs": [],
   "source": [
    "print(f\"Accuracy: {accuracy_score(y_test, labels):.2f}\")"
   ]
  }
 ],
 "metadata": {
  "kernelspec": {
   "display_name": ".venv",
   "language": "python",
   "name": "python3"
  },
  "language_info": {
   "codemirror_mode": {
    "name": "ipython",
    "version": 3
   },
   "file_extension": ".py",
   "mimetype": "text/x-python",
   "name": "python",
   "nbconvert_exporter": "python",
   "pygments_lexer": "ipython3",
   "version": "3.12.7"
  }
 },
 "nbformat": 4,
 "nbformat_minor": 2
}
