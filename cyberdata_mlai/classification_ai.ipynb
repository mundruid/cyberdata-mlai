{
 "cells": [
  {
   "cell_type": "code",
   "execution_count": 4,
   "metadata": {},
   "outputs": [],
   "source": [
    "import pandas as pd\n",
    "import os\n",
    "\n",
    "from dotenv import load_dotenv\n",
    "from sklearn.metrics import accuracy_score\n",
    "from sklearn.utils import shuffle\n",
    "\n",
    "\n",
    "# scikit llm imports\n",
    "from skllm.config import SKLLMConfig\n",
    "from skllm.models.gpt.classification.zero_shot import ZeroShotGPTClassifier\n",
    "from skllm.models.gpt.classification.few_shot import FewShotGPTClassifier"
   ]
  },
  {
   "cell_type": "code",
   "execution_count": 5,
   "metadata": {},
   "outputs": [],
   "source": [
    "# finds .env file and loads the vars\n",
    "load_dotenv()\n",
    "openai_api_key = os.getenv(\"OPENAI_API_KEY\", \"Key not found\")\n",
    "openai_org = os.getenv(\"OPENAI_ORG\", \"Organization not found\")"
   ]
  },
  {
   "cell_type": "code",
   "execution_count": 6,
   "metadata": {},
   "outputs": [],
   "source": [
    "# If this is set to true, we use old data and pickle files that have been created\n",
    "READ_FROM_PICKLE = True"
   ]
  },
  {
   "cell_type": "code",
   "execution_count": 7,
   "metadata": {},
   "outputs": [],
   "source": [
    "if READ_FROM_PICKLE:\n",
    "    mirai_cleaned_df = pd.read_pickle(\"data/mirai_cleaned.pkl\")\n",
    "    benign_clean_df = pd.read_pickle(\"data/benign_cleaned.pkl\")"
   ]
  },
  {
   "cell_type": "code",
   "execution_count": 8,
   "metadata": {},
   "outputs": [],
   "source": [
    "# add labels, 0 for benign, 1 for malicious\n",
    "mirai_cleaned_df[\"Labels\"] = 1 \n",
    "benign_clean_df[\"Labels\"] = 0"
   ]
  },
  {
   "cell_type": "code",
   "execution_count": 9,
   "metadata": {},
   "outputs": [],
   "source": [
    "mirai_payloads = mirai_cleaned_df[[\"Payload\", \"Labels\"]]\n",
    "benign_payloads = benign_clean_df[[\"Payload\", \"Labels\"]]"
   ]
  },
  {
   "cell_type": "code",
   "execution_count": 10,
   "metadata": {},
   "outputs": [],
   "source": [
    "payloads = pd.concat([mirai_payloads, benign_payloads], ignore_index=True)"
   ]
  },
  {
   "cell_type": "code",
   "execution_count": 11,
   "metadata": {},
   "outputs": [],
   "source": [
    "payloads = shuffle(payloads)"
   ]
  },
  {
   "cell_type": "code",
   "execution_count": 12,
   "metadata": {},
   "outputs": [],
   "source": [
    "# use a subset because this takes loooong!\n",
    "X_llm = payloads[\"Payload\"].head(50)\n",
    "y_llm = payloads[\"Labels\"].head(50)\n",
    "X_test = payloads[\"Payload\"].tail(10)\n",
    "y_test = payloads[\"Labels\"].tail(10)"
   ]
  },
  {
   "cell_type": "code",
   "execution_count": 13,
   "metadata": {},
   "outputs": [],
   "source": [
    "SKLLMConfig.set_openai_key(openai_api_key)\n",
    "SKLLMConfig.set_openai_org(openai_org)"
   ]
  },
  {
   "cell_type": "code",
   "execution_count": 14,
   "metadata": {},
   "outputs": [
    {
     "name": "stderr",
     "output_type": "stream",
     "text": [
      "100%|██████████| 50/50 [00:47<00:00,  1.06it/s]"
     ]
    },
    {
     "name": "stdout",
     "output_type": "stream",
     "text": [
      "Accuracy: 0.82\n"
     ]
    },
    {
     "name": "stderr",
     "output_type": "stream",
     "text": [
      "\n"
     ]
    }
   ],
   "source": [
    "clf = ZeroShotGPTClassifier(openai_model=\"gpt-3.5-turbo\")\n",
    "clf.fit(X_llm, y_llm)\n",
    "labels = clf.predict(X_llm)\n",
    "\n",
    "print(f\"Accuracy: {accuracy_score(y_llm, labels):.2f}\")"
   ]
  },
  {
   "cell_type": "code",
   "execution_count": 15,
   "metadata": {},
   "outputs": [
    {
     "name": "stderr",
     "output_type": "stream",
     "text": [
      "100%|██████████| 50/50 [00:41<00:00,  1.19it/s]"
     ]
    },
    {
     "name": "stdout",
     "output_type": "stream",
     "text": [
      "Accuracy: 0.84\n"
     ]
    },
    {
     "name": "stderr",
     "output_type": "stream",
     "text": [
      "\n"
     ]
    }
   ],
   "source": [
    "clf = ZeroShotGPTClassifier(openai_model=\"gpt-4\")\n",
    "clf.fit(X_llm, y_llm)\n",
    "labels = clf.predict(X_llm)\n",
    "\n",
    "print(f\"Accuracy: {accuracy_score(y_llm, labels):.2f}\")"
   ]
  },
  {
   "cell_type": "code",
   "execution_count": 16,
   "metadata": {},
   "outputs": [
    {
     "name": "stderr",
     "output_type": "stream",
     "text": [
      "100%|██████████| 50/50 [00:42<00:00,  1.18it/s]"
     ]
    },
    {
     "name": "stdout",
     "output_type": "stream",
     "text": [
      "Accuracy: 0.94\n"
     ]
    },
    {
     "name": "stderr",
     "output_type": "stream",
     "text": [
      "\n"
     ]
    }
   ],
   "source": [
    "clf = FewShotGPTClassifier(openai_model=\"gpt-3.5-turbo\")\n",
    "clf.fit(X_llm, y_llm)\n",
    "labels = clf.predict(X_llm)\n",
    "\n",
    "print(f\"Accuracy: {accuracy_score(y_llm, labels):.2f}\")"
   ]
  },
  {
   "cell_type": "code",
   "execution_count": 17,
   "metadata": {},
   "outputs": [
    {
     "name": "stderr",
     "output_type": "stream",
     "text": [
      "100%|██████████| 50/50 [00:43<00:00,  1.15it/s]"
     ]
    },
    {
     "name": "stdout",
     "output_type": "stream",
     "text": [
      "Accuracy: 0.94\n"
     ]
    },
    {
     "name": "stderr",
     "output_type": "stream",
     "text": [
      "\n"
     ]
    }
   ],
   "source": [
    "clf = FewShotGPTClassifier(openai_model=\"gpt-4\")\n",
    "clf.fit(X_llm, y_llm)\n",
    "labels = clf.predict(X_llm)\n",
    "\n",
    "print(f\"Accuracy: {accuracy_score(y_llm, labels):.2f}\")"
   ]
  },
  {
   "cell_type": "code",
   "execution_count": 18,
   "metadata": {},
   "outputs": [
    {
     "name": "stdout",
     "output_type": "stream",
     "text": [
      "Created new file. FILE_ID = file-QTaop5haWIfaOuZAQnsRSl5G\n",
      "Waiting for file to be processed ...\n",
      "Created new tuning job. JOB_ID = ftjob-vNoYVVcfLCkvbwhBn2eMAnZ1\n",
      "[2024-04-24 10:01:01.644773] Waiting for tuning job to complete. Current status: validating_files\n",
      "[2024-04-24 10:03:01.986201] Waiting for tuning job to complete. Current status: queued\n",
      "[2024-04-24 10:05:02.380409] Waiting for tuning job to complete. Current status: running\n",
      "[2024-04-24 10:07:02.785078] Waiting for tuning job to complete. Current status: running\n",
      "[2024-04-24 10:09:03.136701] Waiting for tuning job to complete. Current status: running\n",
      "[2024-04-24 10:11:03.477622] Waiting for tuning job to complete. Current status: running\n",
      "Finished training.\n"
     ]
    },
    {
     "name": "stderr",
     "output_type": "stream",
     "text": [
      "100%|██████████| 10/10 [00:12<00:00,  1.26s/it]\n"
     ]
    }
   ],
   "source": [
    "from skllm.models.gpt.classification.tunable import GPTClassifier\n",
    "\n",
    "clf = GPTClassifier(\n",
    "    base_model=\"gpt-3.5-turbo-0613\",\n",
    "    n_epochs=None,  # int or None. When None, will be determined automatically by OpenAI\n",
    "    default_label=\"Random\",  # optional\n",
    ")\n",
    "\n",
    "clf.fit(X_llm, y_llm)  # y_train is a list of labels\n",
    "labels = clf.predict(X_test)"
   ]
  },
  {
   "cell_type": "code",
   "execution_count": 19,
   "metadata": {},
   "outputs": [
    {
     "name": "stdout",
     "output_type": "stream",
     "text": [
      "Accuracy: 0.80\n"
     ]
    }
   ],
   "source": [
    "print(f\"Accuracy: {accuracy_score(y_test, labels):.2f}\")"
   ]
  }
 ],
 "metadata": {
  "kernelspec": {
   "display_name": ".venv",
   "language": "python",
   "name": "python3"
  },
  "language_info": {
   "codemirror_mode": {
    "name": "ipython",
    "version": 3
   },
   "file_extension": ".py",
   "mimetype": "text/x-python",
   "name": "python",
   "nbconvert_exporter": "python",
   "pygments_lexer": "ipython3",
   "version": "3.10.6"
  }
 },
 "nbformat": 4,
 "nbformat_minor": 2
}
