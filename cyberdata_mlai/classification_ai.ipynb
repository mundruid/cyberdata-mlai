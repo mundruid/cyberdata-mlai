{
 "cells": [
  {
   "cell_type": "code",
   "execution_count": 1,
   "metadata": {},
   "outputs": [],
   "source": [
    "import pandas as pd\n",
    "import os\n",
    "\n",
    "from dotenv import load_dotenv\n",
    "from sklearn.metrics import accuracy_score\n",
    "from sklearn.utils import shuffle\n",
    "\n",
    "\n",
    "# scikit llm imports\n",
    "from skllm.config import SKLLMConfig\n",
    "from skllm.models.gpt.classification.zero_shot import ZeroShotGPTClassifier\n",
    "from skllm.models.gpt.classification.few_shot import FewShotGPTClassifier"
   ]
  },
  {
   "cell_type": "code",
   "execution_count": 2,
   "metadata": {},
   "outputs": [],
   "source": [
    "# finds .env file and loads the vars\n",
    "load_dotenv()\n",
    "openai_api_key = os.getenv(\"OPENAI_API_KEY\", \"Key not found\")\n",
    "openai_org = os.getenv(\"OPENAI_ORG\", \"Organization not found\")"
   ]
  },
  {
   "cell_type": "markdown",
   "metadata": {},
   "source": [
    "# Load features"
   ]
  },
  {
   "cell_type": "code",
   "execution_count": 3,
   "metadata": {},
   "outputs": [],
   "source": [
    "# If this is set to true, we use old data and pickle files that have been created\n",
    "READ_FROM_PICKLE = True"
   ]
  },
  {
   "cell_type": "code",
   "execution_count": 4,
   "metadata": {},
   "outputs": [],
   "source": [
    "if READ_FROM_PICKLE:\n",
    "    malicious_df = pd.read_pickle(\"data/malicious_features_numeric.pkl\")\n",
    "    benign_df = pd.read_pickle(\"data/benign_features_numeric.pkl\")"
   ]
  },
  {
   "cell_type": "markdown",
   "metadata": {},
   "source": [
    "# Labeling"
   ]
  },
  {
   "cell_type": "code",
   "execution_count": 5,
   "metadata": {},
   "outputs": [],
   "source": [
    "# add labels, 0 for benign, 1 for malicious\n",
    "malicious_df[\"Labels\"] = 1 \n",
    "benign_df[\"Labels\"] = 0"
   ]
  },
  {
   "cell_type": "code",
   "execution_count": 6,
   "metadata": {},
   "outputs": [],
   "source": [
    "mirai_payloads = malicious_df[[\"Payload\", \"Labels\"]]\n",
    "benign_payloads = benign_df[[\"Payload\", \"Labels\"]]"
   ]
  },
  {
   "cell_type": "code",
   "execution_count": 7,
   "metadata": {},
   "outputs": [],
   "source": [
    "payloads = pd.concat([mirai_payloads, benign_payloads], ignore_index=True)"
   ]
  },
  {
   "cell_type": "code",
   "execution_count": 8,
   "metadata": {},
   "outputs": [],
   "source": [
    "payloads = shuffle(payloads)"
   ]
  },
  {
   "cell_type": "code",
   "execution_count": 9,
   "metadata": {},
   "outputs": [],
   "source": [
    "# use a subset because this takes loooong!\n",
    "X_llm = payloads[\"Payload\"].head(100)\n",
    "y_llm = payloads[\"Labels\"].head(100)\n",
    "X_test = payloads[\"Payload\"].tail(20)\n",
    "y_test = payloads[\"Labels\"].tail(20)"
   ]
  },
  {
   "cell_type": "code",
   "execution_count": 10,
   "metadata": {},
   "outputs": [],
   "source": [
    "SKLLMConfig.set_openai_key(openai_api_key)\n",
    "SKLLMConfig.set_openai_org(openai_org)"
   ]
  },
  {
   "cell_type": "markdown",
   "metadata": {},
   "source": [
    "# Models "
   ]
  },
  {
   "cell_type": "markdown",
   "metadata": {},
   "source": [
    "## ZeroShotClassifier"
   ]
  },
  {
   "cell_type": "code",
   "execution_count": 11,
   "metadata": {},
   "outputs": [
    {
     "name": "stderr",
     "output_type": "stream",
     "text": [
      "100%|██████████| 100/100 [01:22<00:00,  1.21it/s]"
     ]
    },
    {
     "name": "stdout",
     "output_type": "stream",
     "text": [
      "Accuracy: 0.66\n"
     ]
    },
    {
     "name": "stderr",
     "output_type": "stream",
     "text": [
      "\n"
     ]
    }
   ],
   "source": [
    "clf = ZeroShotGPTClassifier(openai_model=\"gpt-3.5-turbo\")\n",
    "clf.fit(X_llm, y_llm)\n",
    "labels = clf.predict(X_llm)\n",
    "\n",
    "print(f\"Accuracy: {accuracy_score(y_llm, labels):.2f}\")"
   ]
  },
  {
   "cell_type": "code",
   "execution_count": 12,
   "metadata": {},
   "outputs": [
    {
     "name": "stderr",
     "output_type": "stream",
     "text": [
      "100%|██████████| 100/100 [01:18<00:00,  1.27it/s]"
     ]
    },
    {
     "name": "stdout",
     "output_type": "stream",
     "text": [
      "Accuracy: 0.64\n"
     ]
    },
    {
     "name": "stderr",
     "output_type": "stream",
     "text": [
      "\n"
     ]
    }
   ],
   "source": [
    "clf = ZeroShotGPTClassifier(openai_model=\"gpt-4\")\n",
    "clf.fit(X_llm, y_llm)\n",
    "labels = clf.predict(X_llm)\n",
    "\n",
    "print(f\"Accuracy: {accuracy_score(y_llm, labels):.2f}\")"
   ]
  },
  {
   "cell_type": "markdown",
   "metadata": {},
   "source": [
    "## FewShotClassifier"
   ]
  },
  {
   "cell_type": "code",
   "execution_count": 13,
   "metadata": {},
   "outputs": [
    {
     "name": "stderr",
     "output_type": "stream",
     "text": [
      "100%|██████████| 100/100 [01:22<00:00,  1.21it/s]"
     ]
    },
    {
     "name": "stdout",
     "output_type": "stream",
     "text": [
      "Accuracy: 0.90\n"
     ]
    },
    {
     "name": "stderr",
     "output_type": "stream",
     "text": [
      "\n"
     ]
    }
   ],
   "source": [
    "clf = FewShotGPTClassifier(openai_model=\"gpt-3.5-turbo\")\n",
    "clf.fit(X_llm, y_llm)\n",
    "labels = clf.predict(X_llm)\n",
    "\n",
    "print(f\"Accuracy: {accuracy_score(y_llm, labels):.2f}\")"
   ]
  },
  {
   "cell_type": "code",
   "execution_count": 14,
   "metadata": {},
   "outputs": [
    {
     "name": "stderr",
     "output_type": "stream",
     "text": [
      "100%|██████████| 100/100 [01:23<00:00,  1.19it/s]"
     ]
    },
    {
     "name": "stdout",
     "output_type": "stream",
     "text": [
      "Accuracy: 0.90\n"
     ]
    },
    {
     "name": "stderr",
     "output_type": "stream",
     "text": [
      "\n"
     ]
    }
   ],
   "source": [
    "clf = FewShotGPTClassifier(openai_model=\"gpt-4\")\n",
    "clf.fit(X_llm, y_llm)\n",
    "labels = clf.predict(X_llm)\n",
    "\n",
    "print(f\"Accuracy: {accuracy_score(y_llm, labels):.2f}\")"
   ]
  },
  {
   "cell_type": "markdown",
   "metadata": {},
   "source": [
    "# Fine Tuning"
   ]
  },
  {
   "cell_type": "code",
   "execution_count": 15,
   "metadata": {},
   "outputs": [
    {
     "name": "stdout",
     "output_type": "stream",
     "text": [
      "Created new file. FILE_ID = file-a65MrjTwy1BrJIbdjwkKOAUv\n",
      "Waiting for file to be processed ...\n",
      "Created new tuning job. JOB_ID = ftjob-MrASpQKkbIzZrbct9AIiRlVS\n",
      "[2024-05-03 11:07:29.755856] Waiting for tuning job to complete. Current status: validating_files\n",
      "[2024-05-03 11:09:30.020271] Waiting for tuning job to complete. Current status: running\n",
      "[2024-05-03 11:11:30.373247] Waiting for tuning job to complete. Current status: running\n",
      "[2024-05-03 11:13:30.794034] Waiting for tuning job to complete. Current status: running\n",
      "[2024-05-03 11:15:31.036670] Waiting for tuning job to complete. Current status: running\n",
      "[2024-05-03 11:17:31.413933] Waiting for tuning job to complete. Current status: running\n",
      "Finished training.\n"
     ]
    },
    {
     "name": "stderr",
     "output_type": "stream",
     "text": [
      "100%|██████████| 20/20 [00:19<00:00,  1.04it/s]\n"
     ]
    }
   ],
   "source": [
    "from skllm.models.gpt.classification.tunable import GPTClassifier\n",
    "\n",
    "clf = GPTClassifier(\n",
    "    base_model=\"gpt-3.5-turbo-0613\",\n",
    "    n_epochs=None,  # int or None. When None, will be determined automatically by OpenAI\n",
    "    default_label=\"Random\",  # optional\n",
    ")\n",
    "\n",
    "clf.fit(X_llm, y_llm)  # y_train is a list of labels\n",
    "labels = clf.predict(X_test)"
   ]
  },
  {
   "cell_type": "code",
   "execution_count": 16,
   "metadata": {},
   "outputs": [
    {
     "name": "stdout",
     "output_type": "stream",
     "text": [
      "Accuracy: 0.90\n"
     ]
    }
   ],
   "source": [
    "print(f\"Accuracy: {accuracy_score(y_test, labels):.2f}\")"
   ]
  }
 ],
 "metadata": {
  "kernelspec": {
   "display_name": ".venv",
   "language": "python",
   "name": "python3"
  },
  "language_info": {
   "codemirror_mode": {
    "name": "ipython",
    "version": 3
   },
   "file_extension": ".py",
   "mimetype": "text/x-python",
   "name": "python",
   "nbconvert_exporter": "python",
   "pygments_lexer": "ipython3",
   "version": "3.10.6"
  }
 },
 "nbformat": 4,
 "nbformat_minor": 2
}
