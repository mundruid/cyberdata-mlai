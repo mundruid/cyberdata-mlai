{
 "cells": [
  {
   "cell_type": "code",
   "execution_count": 1,
   "metadata": {},
   "outputs": [],
   "source": [
    "import pandas as pd\n",
    "import numpy as np\n",
    "import matplotlib.pyplot as plt\n",
    "\n",
    "import ipaddress\n",
    " \n",
    "from utils.pcap import pcap_to_dataframe, extract_streams"
   ]
  },
  {
   "cell_type": "markdown",
   "metadata": {},
   "source": [
    "# Load data\n",
    "There are two ways to load the data:\n",
    "\n",
    "- Directly reading a `pcap` and converting it to a Pandas `DataFrame`,\n",
    "- Preloading the dataframe to a `.pkl` file. For more information on pickle files check the [article from RealPython about pickle module](https://realpython.com/python-pickle-module/)."
   ]
  },
  {
   "cell_type": "code",
   "execution_count": 2,
   "metadata": {},
   "outputs": [],
   "source": [
    "malicious_pcap = \"./data/mirai.pcap\"\n",
    "benign_pcap = \"./data/benign.pcapng\"\n",
    "malicious_pkl = \"./data/mirai.pkl\"\n",
    "benign_pkl = \"./data/benign.pkl\""
   ]
  },
  {
   "cell_type": "code",
   "execution_count": 3,
   "metadata": {},
   "outputs": [],
   "source": [
    "# first time you run this, you should create your own pkl\n",
    "# for security reasons we do not recommend to use untrusted pkl files\n",
    "READ_FROM_PKL = True"
   ]
  },
  {
   "cell_type": "code",
   "execution_count": 4,
   "metadata": {},
   "outputs": [],
   "source": [
    "if READ_FROM_PKL:\n",
    "    malicious_df = pd.read_pickle(malicious_pkl)\n",
    "    benign_df = pd.read_pickle(benign_pkl)\n",
    "    \n",
    "    malicious_stream_df = pd.read_pickle(\"data/mirai_stream.pkl\")\n",
    "    benign_stream_df = pd.read_pickle(\"data/benign_stream.pkl\")\n",
    "else:\n",
    "    malicious_df = pcap_to_dataframe(malicious_pcap)\n",
    "    benign_df = pcap_to_dataframe(benign_pcap)\n",
    "    malicious_stream_df = extract_streams(malicious_df)\n",
    "    benign_stream_df = extract_streams(benign_df)\n",
    "    # save to pkl since dataframe conversion takes a long time\n",
    "    malicious_df.to_pickle(malicious_pkl)\n",
    "    benign_df.to_pickle(benign_pkl)"
   ]
  },
  {
   "cell_type": "code",
   "execution_count": null,
   "metadata": {},
   "outputs": [],
   "source": [
    "malicious_df.sample(n=10)"
   ]
  },
  {
   "cell_type": "code",
   "execution_count": null,
   "metadata": {},
   "outputs": [],
   "source": [
    "malicious_df.shape"
   ]
  },
  {
   "cell_type": "code",
   "execution_count": 7,
   "metadata": {},
   "outputs": [],
   "source": [
    "# copy the dataframes to a features dataframe while omitting the packets with NaN src/dst ips/ports\n",
    "malicious_features = malicious_df.dropna(subset=[\"Source IP\", \"Destination IP\", \"Source Port\", \"Destination Port\"])\n",
    "benign_features = benign_df.dropna(subset=[\"Source IP\", \"Destination IP\", \"Source Port\", \"Destination Port\"])"
   ]
  },
  {
   "cell_type": "code",
   "execution_count": null,
   "metadata": {},
   "outputs": [],
   "source": [
    "malicious_features.sample(n=10)"
   ]
  },
  {
   "cell_type": "code",
   "execution_count": null,
   "metadata": {},
   "outputs": [],
   "source": [
    "malicious_features.shape"
   ]
  },
  {
   "cell_type": "markdown",
   "metadata": {},
   "source": [
    "# Numerical features\n",
    "Post processing numbers to ... better numbers that describe context or condense our data information."
   ]
  },
  {
   "cell_type": "markdown",
   "metadata": {},
   "source": [
    "## Cumulative\n",
    "\n",
    "Summarize your numerical features and give them a new meaning and utility."
   ]
  },
  {
   "cell_type": "code",
   "execution_count": null,
   "metadata": {},
   "outputs": [],
   "source": [
    "malicious_features[\"src_ip_total_bytes\"] = malicious_features.groupby(\"Source IP\")[\n",
    "    \"Packet Length\"\n",
    "].cumsum()"
   ]
  },
  {
   "cell_type": "code",
   "execution_count": null,
   "metadata": {},
   "outputs": [],
   "source": [
    "benign_features[\"src_ip_total_bytes\"] = benign_features.groupby(\"Source IP\")[\n",
    "    \"Packet Length\"\n",
    "].cumsum()"
   ]
  },
  {
   "cell_type": "code",
   "execution_count": null,
   "metadata": {},
   "outputs": [],
   "source": [
    "malicious_features[\"dst_ip_total_bytes\"] = malicious_features.groupby(\"Destination IP\")[\n",
    "    \"Packet Length\"\n",
    "].cumsum()"
   ]
  },
  {
   "cell_type": "code",
   "execution_count": null,
   "metadata": {},
   "outputs": [],
   "source": [
    "benign_features[\"dst_ip_total_bytes\"] = benign_features.groupby(\"Destination IP\")[\n",
    "    \"Packet Length\"\n",
    "].cumsum()"
   ]
  },
  {
   "cell_type": "code",
   "execution_count": null,
   "metadata": {},
   "outputs": [],
   "source": [
    "malicious_features.sample(n=10)"
   ]
  },
  {
   "cell_type": "markdown",
   "metadata": {},
   "source": [
    "## Numerical conversions\n",
    "\n",
    "Convert numerical features to usable numbers."
   ]
  },
  {
   "cell_type": "code",
   "execution_count": 15,
   "metadata": {},
   "outputs": [],
   "source": [
    "def ip_to_numeric(ip):\n",
    "    try:\n",
    "        ip_obj = ipaddress.ip_interface(ip)\n",
    "        ip = int(ip_obj.network.network_address)\n",
    "    except ValueError:\n",
    "        ip = 0\n",
    "\n",
    "    return ip"
   ]
  },
  {
   "cell_type": "code",
   "execution_count": null,
   "metadata": {},
   "outputs": [],
   "source": [
    "malicious_features[\"Numeric Source IP\"] = malicious_features[\"Source IP\"].apply(\n",
    "    ip_to_numeric\n",
    ")\n",
    "\n",
    "malicious_features[\"Numeric Destination IP\"] = malicious_features[\"Destination IP\"].apply(\n",
    "    ip_to_numeric\n",
    ")"
   ]
  },
  {
   "cell_type": "code",
   "execution_count": null,
   "metadata": {},
   "outputs": [],
   "source": [
    "benign_features[\"Numeric Source IP\"] = benign_features[\"Source IP\"].apply(\n",
    "    ip_to_numeric\n",
    ")\n",
    "\n",
    "benign_features[\"Numeric Destination IP\"] = benign_features[\"Destination IP\"].apply(\n",
    "    ip_to_numeric\n",
    ")"
   ]
  },
  {
   "cell_type": "code",
   "execution_count": null,
   "metadata": {},
   "outputs": [],
   "source": [
    "# remove non-numeric IPs\n",
    "malicious_features.pop(\"Source IP\")\n",
    "malicious_features.pop(\"Destination IP\")\n",
    "\n",
    "benign_features.pop(\"Source IP\")\n",
    "benign_features.pop(\"Destination IP\")"
   ]
  },
  {
   "cell_type": "markdown",
   "metadata": {},
   "source": [
    "# Categorical features\n",
    "What about the text data? We can convert those to numbers too."
   ]
  },
  {
   "cell_type": "markdown",
   "metadata": {},
   "source": [
    "## Frequency encoding\n",
    "Counts the population that corresponds to a specific category. The result is still a vector of categories, however not with 0s ans 1s, but with real numbers that indicate how often the category is encountered in the data."
   ]
  },
  {
   "cell_type": "code",
   "execution_count": 19,
   "metadata": {},
   "outputs": [],
   "source": [
    "malicious_frequency_encoding = (\n",
    "   malicious_features[\"Destination Port\"].value_counts(normalize=True).to_dict()\n",
    ")"
   ]
  },
  {
   "cell_type": "code",
   "execution_count": null,
   "metadata": {},
   "outputs": [],
   "source": [
    "malicious_frequency_encoding"
   ]
  },
  {
   "cell_type": "code",
   "execution_count": 21,
   "metadata": {},
   "outputs": [],
   "source": [
    "benign_frequency_encoding = (\n",
    "   benign_features[\"Destination Port\"].value_counts(normalize=True).to_dict()\n",
    ")"
   ]
  },
  {
   "cell_type": "code",
   "execution_count": null,
   "metadata": {},
   "outputs": [],
   "source": [
    "malicious_features[\"dst_port_freq_encoded\"] = malicious_features[\"Destination Port\"].map(\n",
    "    malicious_frequency_encoding\n",
    ")"
   ]
  },
  {
   "cell_type": "code",
   "execution_count": null,
   "metadata": {},
   "outputs": [],
   "source": [
    "benign_features[\"dst_port_freq_encoded\"] = benign_features[\"Destination Port\"].map(\n",
    "    benign_frequency_encoding\n",
    ")"
   ]
  },
  {
   "cell_type": "markdown",
   "metadata": {},
   "source": [
    "## Derivative"
   ]
  },
  {
   "cell_type": "code",
   "execution_count": null,
   "metadata": {},
   "outputs": [],
   "source": [
    "# Define a function to convert Scapy timestamps to pandas datetime\n",
    "def scapy_timestamp_to_datetime(ts):\n",
    "    return pd.to_datetime(\n",
    "        ts.to_eng_string(), unit=\"s\"\n",
    "    )  # Convert to a format pandas understands\n",
    "\n",
    "\n",
    "# Convert the Scapy timestamps to pandas datetime\n",
    "malicious_features[\"Timestamp\"] = malicious_features[\"Timestamp\"].apply(scapy_timestamp_to_datetime).astype(int) / 10**9\n",
    "benign_features[\"Timestamp\"] = benign_features[\"Timestamp\"].apply(scapy_timestamp_to_datetime).astype(int) / 10**9"
   ]
  },
  {
   "cell_type": "code",
   "execution_count": null,
   "metadata": {},
   "outputs": [],
   "source": [
    "malicious_features[\"Interarrival\"] = malicious_features[\"Timestamp\"].diff()\n",
    "benign_features[\"Interarrival\"] = benign_features[\"Timestamp\"].diff()"
   ]
  },
  {
   "cell_type": "code",
   "execution_count": null,
   "metadata": {},
   "outputs": [],
   "source": [
    "malicious_features.sample(n=5)"
   ]
  },
  {
   "cell_type": "code",
   "execution_count": null,
   "metadata": {},
   "outputs": [],
   "source": [
    "malicious_features.dtypes"
   ]
  },
  {
   "cell_type": "code",
   "execution_count": 28,
   "metadata": {},
   "outputs": [],
   "source": [
    "malicious_features.to_pickle(\"./data/malicious_features_numeric.pkl\")\n",
    "benign_features.to_pickle(\"./data/benign_features_numeric.pkl\")"
   ]
  },
  {
   "cell_type": "markdown",
   "metadata": {},
   "source": [
    "## One hot encoding\n",
    "Binary encoding that creates a vector with 0s and 1s that correspond to specific categories. If your data had the category populated, mark it as 1 otherwise mark as 0. "
   ]
  },
  {
   "cell_type": "code",
   "execution_count": 29,
   "metadata": {},
   "outputs": [],
   "source": [
    "network_protocols = {\n",
    "    1: \"ICMP\",\n",
    "    6: \"TCP\",\n",
    "    17: \"UDP\",\n",
    "    23: \"Telnet\",\n",
    "    41: \"IPv6_encapsulation\",\n",
    "    47: \"GRE\",\n",
    "    50: \"ESP\",\n",
    "    51: \"AH\",\n",
    "    53: \"DNS\",\n",
    "    58: \"ICMPv6\",\n",
    "    89: \"OSPF\",\n",
    "    132: \"SCTP\",\n",
    "    135: \"SCTP\",\n",
    "    136: \"UDPLite\",\n",
    "    137: \"NETBIOS-NS\",\n",
    "    138: \"NETBIOS-DGM\",\n",
    "    139: \"NETBIOS-SSN\",\n",
    "    143: \"IMAP\",\n",
    "    161: \"SNMP\",\n",
    "    162: \"SNMP_trap\",\n",
    "    443: \"HTTPS\",\n",
    "    514: \"Syslog\",\n",
    "    636: \"LDAPS\",\n",
    "    989: \"FTPS\",\n",
    "    993: \"IMAPS\",\n",
    "    995: \"POP3S\",\n",
    "    1080: \"SOCKS_proxy\",\n",
    "    # Add more protocols as needed\n",
    "}"
   ]
  },
  {
   "cell_type": "code",
   "execution_count": 30,
   "metadata": {},
   "outputs": [],
   "source": [
    "def one_hot_port(port, df):\n",
    "    new_df = pd.DataFrame()\n",
    "    for protocol_port, protocol_name in network_protocols.items():\n",
    "        new_df[protocol_name] = df[port].apply(\n",
    "            lambda port: 1 if port == protocol_port else 0\n",
    "        )\n",
    "    return new_df"
   ]
  },
  {
   "cell_type": "code",
   "execution_count": 31,
   "metadata": {},
   "outputs": [],
   "source": [
    "malicious_protocol_one_hot = one_hot_port(\"Destination Port\", malicious_features)\n",
    "malicious_features = pd.concat([malicious_features, malicious_protocol_one_hot], axis=1)"
   ]
  },
  {
   "cell_type": "code",
   "execution_count": 32,
   "metadata": {},
   "outputs": [],
   "source": [
    "benign_protocol_one_hot = one_hot_port(\"Destination Port\", benign_features)\n",
    "benign_features = pd.concat([benign_features, benign_protocol_one_hot], axis=1)"
   ]
  },
  {
   "cell_type": "code",
   "execution_count": 33,
   "metadata": {},
   "outputs": [],
   "source": [
    "malicious_features.to_pickle(\"./data/malicious_features.pkl\")\n",
    "benign_features.to_pickle(\"./data/benign_features.pkl\")"
   ]
  },
  {
   "cell_type": "code",
   "execution_count": null,
   "metadata": {},
   "outputs": [],
   "source": [
    "malicious_features.head()"
   ]
  }
 ],
 "metadata": {
  "kernelspec": {
   "display_name": ".venv",
   "language": "python",
   "name": "python3"
  },
  "language_info": {
   "codemirror_mode": {
    "name": "ipython",
    "version": 3
   },
   "file_extension": ".py",
   "mimetype": "text/x-python",
   "name": "python",
   "nbconvert_exporter": "python",
   "pygments_lexer": "ipython3",
   "version": "3.12.7"
  }
 },
 "nbformat": 4,
 "nbformat_minor": 2
}
